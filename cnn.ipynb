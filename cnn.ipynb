{
  "nbformat": 4,
  "nbformat_minor": 0,
  "metadata": {
    "colab": {
      "name": "Copy of PS8 (CLEAN)",
      "provenance": [],
      "collapsed_sections": [
        "bhcnqfawZhmx",
        "Ooh3KTatYqgl",
        "Ty4jZ23sPvVA"
      ],
      "toc_visible": true,
      "include_colab_link": true
    },
    "kernelspec": {
      "name": "python3",
      "display_name": "Python 3"
    },
    "accelerator": "GPU",
    "widgets": {
      "application/vnd.jupyter.widget-state+json": {
        "6a6d990458a24c3b9bcdc78f87c55393": {
          "model_module": "@jupyter-widgets/controls",
          "model_name": "HBoxModel",
          "state": {
            "_view_name": "HBoxView",
            "_dom_classes": [],
            "_model_name": "HBoxModel",
            "_view_module": "@jupyter-widgets/controls",
            "_model_module_version": "1.5.0",
            "_view_count": null,
            "_view_module_version": "1.5.0",
            "box_style": "",
            "layout": "IPY_MODEL_846f40cbfdac40a58685d59c85d54807",
            "_model_module": "@jupyter-widgets/controls",
            "children": [
              "IPY_MODEL_d7f389bdadbb4890be97de7385b56729",
              "IPY_MODEL_7730c7f0ab414cf0a46e51529c85b1e8"
            ]
          }
        },
        "846f40cbfdac40a58685d59c85d54807": {
          "model_module": "@jupyter-widgets/base",
          "model_name": "LayoutModel",
          "state": {
            "_view_name": "LayoutView",
            "grid_template_rows": null,
            "right": null,
            "justify_content": null,
            "_view_module": "@jupyter-widgets/base",
            "overflow": null,
            "_model_module_version": "1.2.0",
            "_view_count": null,
            "flex_flow": null,
            "width": null,
            "min_width": null,
            "border": null,
            "align_items": null,
            "bottom": null,
            "_model_module": "@jupyter-widgets/base",
            "top": null,
            "grid_column": null,
            "overflow_y": null,
            "overflow_x": null,
            "grid_auto_flow": null,
            "grid_area": null,
            "grid_template_columns": null,
            "flex": null,
            "_model_name": "LayoutModel",
            "justify_items": null,
            "grid_row": null,
            "max_height": null,
            "align_content": null,
            "visibility": null,
            "align_self": null,
            "height": null,
            "min_height": null,
            "padding": null,
            "grid_auto_rows": null,
            "grid_gap": null,
            "max_width": null,
            "order": null,
            "_view_module_version": "1.2.0",
            "grid_template_areas": null,
            "object_position": null,
            "object_fit": null,
            "grid_auto_columns": null,
            "margin": null,
            "display": null,
            "left": null
          }
        },
        "d7f389bdadbb4890be97de7385b56729": {
          "model_module": "@jupyter-widgets/controls",
          "model_name": "FloatProgressModel",
          "state": {
            "_view_name": "ProgressView",
            "style": "IPY_MODEL_cb3dd0b78ccb4aecacd0695c6dc8c8f5",
            "_dom_classes": [],
            "description": "Dl Completed...: 100%",
            "_model_name": "FloatProgressModel",
            "bar_style": "success",
            "max": 1,
            "_view_module": "@jupyter-widgets/controls",
            "_model_module_version": "1.5.0",
            "value": 1,
            "_view_count": null,
            "_view_module_version": "1.5.0",
            "orientation": "horizontal",
            "min": 0,
            "description_tooltip": null,
            "_model_module": "@jupyter-widgets/controls",
            "layout": "IPY_MODEL_5d6bf2252a9440ce8b055a499725c0cb"
          }
        },
        "7730c7f0ab414cf0a46e51529c85b1e8": {
          "model_module": "@jupyter-widgets/controls",
          "model_name": "HTMLModel",
          "state": {
            "_view_name": "HTMLView",
            "style": "IPY_MODEL_eed981092abc421bbdd0fff3699aeebe",
            "_dom_classes": [],
            "description": "",
            "_model_name": "HTMLModel",
            "placeholder": "​",
            "_view_module": "@jupyter-widgets/controls",
            "_model_module_version": "1.5.0",
            "value": " 2/2 [01:19&lt;00:00, 39.76s/ url]",
            "_view_count": null,
            "_view_module_version": "1.5.0",
            "description_tooltip": null,
            "_model_module": "@jupyter-widgets/controls",
            "layout": "IPY_MODEL_eabb02b9f8e042478d61c9f4f52d9d9e"
          }
        },
        "cb3dd0b78ccb4aecacd0695c6dc8c8f5": {
          "model_module": "@jupyter-widgets/controls",
          "model_name": "ProgressStyleModel",
          "state": {
            "_view_name": "StyleView",
            "_model_name": "ProgressStyleModel",
            "description_width": "initial",
            "_view_module": "@jupyter-widgets/base",
            "_model_module_version": "1.5.0",
            "_view_count": null,
            "_view_module_version": "1.2.0",
            "bar_color": null,
            "_model_module": "@jupyter-widgets/controls"
          }
        },
        "5d6bf2252a9440ce8b055a499725c0cb": {
          "model_module": "@jupyter-widgets/base",
          "model_name": "LayoutModel",
          "state": {
            "_view_name": "LayoutView",
            "grid_template_rows": null,
            "right": null,
            "justify_content": null,
            "_view_module": "@jupyter-widgets/base",
            "overflow": null,
            "_model_module_version": "1.2.0",
            "_view_count": null,
            "flex_flow": null,
            "width": null,
            "min_width": null,
            "border": null,
            "align_items": null,
            "bottom": null,
            "_model_module": "@jupyter-widgets/base",
            "top": null,
            "grid_column": null,
            "overflow_y": null,
            "overflow_x": null,
            "grid_auto_flow": null,
            "grid_area": null,
            "grid_template_columns": null,
            "flex": null,
            "_model_name": "LayoutModel",
            "justify_items": null,
            "grid_row": null,
            "max_height": null,
            "align_content": null,
            "visibility": null,
            "align_self": null,
            "height": null,
            "min_height": null,
            "padding": null,
            "grid_auto_rows": null,
            "grid_gap": null,
            "max_width": null,
            "order": null,
            "_view_module_version": "1.2.0",
            "grid_template_areas": null,
            "object_position": null,
            "object_fit": null,
            "grid_auto_columns": null,
            "margin": null,
            "display": null,
            "left": null
          }
        },
        "eed981092abc421bbdd0fff3699aeebe": {
          "model_module": "@jupyter-widgets/controls",
          "model_name": "DescriptionStyleModel",
          "state": {
            "_view_name": "StyleView",
            "_model_name": "DescriptionStyleModel",
            "description_width": "",
            "_view_module": "@jupyter-widgets/base",
            "_model_module_version": "1.5.0",
            "_view_count": null,
            "_view_module_version": "1.2.0",
            "_model_module": "@jupyter-widgets/controls"
          }
        },
        "eabb02b9f8e042478d61c9f4f52d9d9e": {
          "model_module": "@jupyter-widgets/base",
          "model_name": "LayoutModel",
          "state": {
            "_view_name": "LayoutView",
            "grid_template_rows": null,
            "right": null,
            "justify_content": null,
            "_view_module": "@jupyter-widgets/base",
            "overflow": null,
            "_model_module_version": "1.2.0",
            "_view_count": null,
            "flex_flow": null,
            "width": null,
            "min_width": null,
            "border": null,
            "align_items": null,
            "bottom": null,
            "_model_module": "@jupyter-widgets/base",
            "top": null,
            "grid_column": null,
            "overflow_y": null,
            "overflow_x": null,
            "grid_auto_flow": null,
            "grid_area": null,
            "grid_template_columns": null,
            "flex": null,
            "_model_name": "LayoutModel",
            "justify_items": null,
            "grid_row": null,
            "max_height": null,
            "align_content": null,
            "visibility": null,
            "align_self": null,
            "height": null,
            "min_height": null,
            "padding": null,
            "grid_auto_rows": null,
            "grid_gap": null,
            "max_width": null,
            "order": null,
            "_view_module_version": "1.2.0",
            "grid_template_areas": null,
            "object_position": null,
            "object_fit": null,
            "grid_auto_columns": null,
            "margin": null,
            "display": null,
            "left": null
          }
        },
        "be266abc16104f8489b35dbd575afa81": {
          "model_module": "@jupyter-widgets/controls",
          "model_name": "HBoxModel",
          "state": {
            "_view_name": "HBoxView",
            "_dom_classes": [],
            "_model_name": "HBoxModel",
            "_view_module": "@jupyter-widgets/controls",
            "_model_module_version": "1.5.0",
            "_view_count": null,
            "_view_module_version": "1.5.0",
            "box_style": "",
            "layout": "IPY_MODEL_c82f57557b7e4f1a99520e57d0506e07",
            "_model_module": "@jupyter-widgets/controls",
            "children": [
              "IPY_MODEL_eff5426918e242fab328182ef157e0dd",
              "IPY_MODEL_da87fdcdc7cf4232841de02900393b66"
            ]
          }
        },
        "c82f57557b7e4f1a99520e57d0506e07": {
          "model_module": "@jupyter-widgets/base",
          "model_name": "LayoutModel",
          "state": {
            "_view_name": "LayoutView",
            "grid_template_rows": null,
            "right": null,
            "justify_content": null,
            "_view_module": "@jupyter-widgets/base",
            "overflow": null,
            "_model_module_version": "1.2.0",
            "_view_count": null,
            "flex_flow": null,
            "width": null,
            "min_width": null,
            "border": null,
            "align_items": null,
            "bottom": null,
            "_model_module": "@jupyter-widgets/base",
            "top": null,
            "grid_column": null,
            "overflow_y": null,
            "overflow_x": null,
            "grid_auto_flow": null,
            "grid_area": null,
            "grid_template_columns": null,
            "flex": null,
            "_model_name": "LayoutModel",
            "justify_items": null,
            "grid_row": null,
            "max_height": null,
            "align_content": null,
            "visibility": null,
            "align_self": null,
            "height": null,
            "min_height": null,
            "padding": null,
            "grid_auto_rows": null,
            "grid_gap": null,
            "max_width": null,
            "order": null,
            "_view_module_version": "1.2.0",
            "grid_template_areas": null,
            "object_position": null,
            "object_fit": null,
            "grid_auto_columns": null,
            "margin": null,
            "display": null,
            "left": null
          }
        },
        "eff5426918e242fab328182ef157e0dd": {
          "model_module": "@jupyter-widgets/controls",
          "model_name": "FloatProgressModel",
          "state": {
            "_view_name": "ProgressView",
            "style": "IPY_MODEL_baadc87c0f5c4ba095bebb30eb0f0b2d",
            "_dom_classes": [],
            "description": "Dl Size...: 100%",
            "_model_name": "FloatProgressModel",
            "bar_style": "success",
            "max": 1,
            "_view_module": "@jupyter-widgets/controls",
            "_model_module_version": "1.5.0",
            "value": 1,
            "_view_count": null,
            "_view_module_version": "1.5.0",
            "orientation": "horizontal",
            "min": 0,
            "description_tooltip": null,
            "_model_module": "@jupyter-widgets/controls",
            "layout": "IPY_MODEL_485bee63b6a947789336396975e47272"
          }
        },
        "da87fdcdc7cf4232841de02900393b66": {
          "model_module": "@jupyter-widgets/controls",
          "model_name": "HTMLModel",
          "state": {
            "_view_name": "HTMLView",
            "style": "IPY_MODEL_90d841b31c7e4078bc3b906d106a9a50",
            "_dom_classes": [],
            "description": "",
            "_model_name": "HTMLModel",
            "placeholder": "​",
            "_view_module": "@jupyter-widgets/controls",
            "_model_module_version": "1.5.0",
            "value": " 2423/2423 [01:19&lt;00:00, 30.49 MiB/s]",
            "_view_count": null,
            "_view_module_version": "1.5.0",
            "description_tooltip": null,
            "_model_module": "@jupyter-widgets/controls",
            "layout": "IPY_MODEL_728607719dce4a6f95ad9c788baa49e7"
          }
        },
        "baadc87c0f5c4ba095bebb30eb0f0b2d": {
          "model_module": "@jupyter-widgets/controls",
          "model_name": "ProgressStyleModel",
          "state": {
            "_view_name": "StyleView",
            "_model_name": "ProgressStyleModel",
            "description_width": "initial",
            "_view_module": "@jupyter-widgets/base",
            "_model_module_version": "1.5.0",
            "_view_count": null,
            "_view_module_version": "1.2.0",
            "bar_color": null,
            "_model_module": "@jupyter-widgets/controls"
          }
        },
        "485bee63b6a947789336396975e47272": {
          "model_module": "@jupyter-widgets/base",
          "model_name": "LayoutModel",
          "state": {
            "_view_name": "LayoutView",
            "grid_template_rows": null,
            "right": null,
            "justify_content": null,
            "_view_module": "@jupyter-widgets/base",
            "overflow": null,
            "_model_module_version": "1.2.0",
            "_view_count": null,
            "flex_flow": null,
            "width": null,
            "min_width": null,
            "border": null,
            "align_items": null,
            "bottom": null,
            "_model_module": "@jupyter-widgets/base",
            "top": null,
            "grid_column": null,
            "overflow_y": null,
            "overflow_x": null,
            "grid_auto_flow": null,
            "grid_area": null,
            "grid_template_columns": null,
            "flex": null,
            "_model_name": "LayoutModel",
            "justify_items": null,
            "grid_row": null,
            "max_height": null,
            "align_content": null,
            "visibility": null,
            "align_self": null,
            "height": null,
            "min_height": null,
            "padding": null,
            "grid_auto_rows": null,
            "grid_gap": null,
            "max_width": null,
            "order": null,
            "_view_module_version": "1.2.0",
            "grid_template_areas": null,
            "object_position": null,
            "object_fit": null,
            "grid_auto_columns": null,
            "margin": null,
            "display": null,
            "left": null
          }
        },
        "90d841b31c7e4078bc3b906d106a9a50": {
          "model_module": "@jupyter-widgets/controls",
          "model_name": "DescriptionStyleModel",
          "state": {
            "_view_name": "StyleView",
            "_model_name": "DescriptionStyleModel",
            "description_width": "",
            "_view_module": "@jupyter-widgets/base",
            "_model_module_version": "1.5.0",
            "_view_count": null,
            "_view_module_version": "1.2.0",
            "_model_module": "@jupyter-widgets/controls"
          }
        },
        "728607719dce4a6f95ad9c788baa49e7": {
          "model_module": "@jupyter-widgets/base",
          "model_name": "LayoutModel",
          "state": {
            "_view_name": "LayoutView",
            "grid_template_rows": null,
            "right": null,
            "justify_content": null,
            "_view_module": "@jupyter-widgets/base",
            "overflow": null,
            "_model_module_version": "1.2.0",
            "_view_count": null,
            "flex_flow": null,
            "width": null,
            "min_width": null,
            "border": null,
            "align_items": null,
            "bottom": null,
            "_model_module": "@jupyter-widgets/base",
            "top": null,
            "grid_column": null,
            "overflow_y": null,
            "overflow_x": null,
            "grid_auto_flow": null,
            "grid_area": null,
            "grid_template_columns": null,
            "flex": null,
            "_model_name": "LayoutModel",
            "justify_items": null,
            "grid_row": null,
            "max_height": null,
            "align_content": null,
            "visibility": null,
            "align_self": null,
            "height": null,
            "min_height": null,
            "padding": null,
            "grid_auto_rows": null,
            "grid_gap": null,
            "max_width": null,
            "order": null,
            "_view_module_version": "1.2.0",
            "grid_template_areas": null,
            "object_position": null,
            "object_fit": null,
            "grid_auto_columns": null,
            "margin": null,
            "display": null,
            "left": null
          }
        },
        "fa1f205f93494670b606c703a7a0bd35": {
          "model_module": "@jupyter-widgets/controls",
          "model_name": "HBoxModel",
          "state": {
            "_view_name": "HBoxView",
            "_dom_classes": [],
            "_model_name": "HBoxModel",
            "_view_module": "@jupyter-widgets/controls",
            "_model_module_version": "1.5.0",
            "_view_count": null,
            "_view_module_version": "1.5.0",
            "box_style": "",
            "layout": "IPY_MODEL_f9456a3bf1a7452ab8a221501a5866a6",
            "_model_module": "@jupyter-widgets/controls",
            "children": [
              "IPY_MODEL_ce2c46ab786d411fb8d0ed7b21a49088",
              "IPY_MODEL_dccc27c51ded424a9b2eedf8eb5a13bc"
            ]
          }
        },
        "f9456a3bf1a7452ab8a221501a5866a6": {
          "model_module": "@jupyter-widgets/base",
          "model_name": "LayoutModel",
          "state": {
            "_view_name": "LayoutView",
            "grid_template_rows": null,
            "right": null,
            "justify_content": null,
            "_view_module": "@jupyter-widgets/base",
            "overflow": null,
            "_model_module_version": "1.2.0",
            "_view_count": null,
            "flex_flow": null,
            "width": null,
            "min_width": null,
            "border": null,
            "align_items": null,
            "bottom": null,
            "_model_module": "@jupyter-widgets/base",
            "top": null,
            "grid_column": null,
            "overflow_y": null,
            "overflow_x": null,
            "grid_auto_flow": null,
            "grid_area": null,
            "grid_template_columns": null,
            "flex": null,
            "_model_name": "LayoutModel",
            "justify_items": null,
            "grid_row": null,
            "max_height": null,
            "align_content": null,
            "visibility": null,
            "align_self": null,
            "height": null,
            "min_height": null,
            "padding": null,
            "grid_auto_rows": null,
            "grid_gap": null,
            "max_width": null,
            "order": null,
            "_view_module_version": "1.2.0",
            "grid_template_areas": null,
            "object_position": null,
            "object_fit": null,
            "grid_auto_columns": null,
            "margin": null,
            "display": null,
            "left": null
          }
        },
        "ce2c46ab786d411fb8d0ed7b21a49088": {
          "model_module": "@jupyter-widgets/controls",
          "model_name": "FloatProgressModel",
          "state": {
            "_view_name": "ProgressView",
            "style": "IPY_MODEL_c99f4963a935434f9cfba1861d81638e",
            "_dom_classes": [],
            "description": "",
            "_model_name": "FloatProgressModel",
            "bar_style": "info",
            "max": 1,
            "_view_module": "@jupyter-widgets/controls",
            "_model_module_version": "1.5.0",
            "value": 1,
            "_view_count": null,
            "_view_module_version": "1.5.0",
            "orientation": "horizontal",
            "min": 0,
            "description_tooltip": null,
            "_model_module": "@jupyter-widgets/controls",
            "layout": "IPY_MODEL_b23bc3815742402f94329f3889eeac56"
          }
        },
        "dccc27c51ded424a9b2eedf8eb5a13bc": {
          "model_module": "@jupyter-widgets/controls",
          "model_name": "HTMLModel",
          "state": {
            "_view_name": "HTMLView",
            "style": "IPY_MODEL_fd605b992f7c4174b30e0f509cf8cc5e",
            "_dom_classes": [],
            "description": "",
            "_model_name": "HTMLModel",
            "placeholder": "​",
            "_view_module": "@jupyter-widgets/controls",
            "_model_module_version": "1.5.0",
            "value": " 85511/0 [08:41&lt;00:00, 162.90 examples/s]",
            "_view_count": null,
            "_view_module_version": "1.5.0",
            "description_tooltip": null,
            "_model_module": "@jupyter-widgets/controls",
            "layout": "IPY_MODEL_ddb640ea530642cba7220b021c30952d"
          }
        },
        "c99f4963a935434f9cfba1861d81638e": {
          "model_module": "@jupyter-widgets/controls",
          "model_name": "ProgressStyleModel",
          "state": {
            "_view_name": "StyleView",
            "_model_name": "ProgressStyleModel",
            "description_width": "initial",
            "_view_module": "@jupyter-widgets/base",
            "_model_module_version": "1.5.0",
            "_view_count": null,
            "_view_module_version": "1.2.0",
            "bar_color": null,
            "_model_module": "@jupyter-widgets/controls"
          }
        },
        "b23bc3815742402f94329f3889eeac56": {
          "model_module": "@jupyter-widgets/base",
          "model_name": "LayoutModel",
          "state": {
            "_view_name": "LayoutView",
            "grid_template_rows": null,
            "right": null,
            "justify_content": null,
            "_view_module": "@jupyter-widgets/base",
            "overflow": null,
            "_model_module_version": "1.2.0",
            "_view_count": null,
            "flex_flow": null,
            "width": null,
            "min_width": null,
            "border": null,
            "align_items": null,
            "bottom": null,
            "_model_module": "@jupyter-widgets/base",
            "top": null,
            "grid_column": null,
            "overflow_y": null,
            "overflow_x": null,
            "grid_auto_flow": null,
            "grid_area": null,
            "grid_template_columns": null,
            "flex": null,
            "_model_name": "LayoutModel",
            "justify_items": null,
            "grid_row": null,
            "max_height": null,
            "align_content": null,
            "visibility": null,
            "align_self": null,
            "height": null,
            "min_height": null,
            "padding": null,
            "grid_auto_rows": null,
            "grid_gap": null,
            "max_width": null,
            "order": null,
            "_view_module_version": "1.2.0",
            "grid_template_areas": null,
            "object_position": null,
            "object_fit": null,
            "grid_auto_columns": null,
            "margin": null,
            "display": null,
            "left": null
          }
        },
        "fd605b992f7c4174b30e0f509cf8cc5e": {
          "model_module": "@jupyter-widgets/controls",
          "model_name": "DescriptionStyleModel",
          "state": {
            "_view_name": "StyleView",
            "_model_name": "DescriptionStyleModel",
            "description_width": "",
            "_view_module": "@jupyter-widgets/base",
            "_model_module_version": "1.5.0",
            "_view_count": null,
            "_view_module_version": "1.2.0",
            "_model_module": "@jupyter-widgets/controls"
          }
        },
        "ddb640ea530642cba7220b021c30952d": {
          "model_module": "@jupyter-widgets/base",
          "model_name": "LayoutModel",
          "state": {
            "_view_name": "LayoutView",
            "grid_template_rows": null,
            "right": null,
            "justify_content": null,
            "_view_module": "@jupyter-widgets/base",
            "overflow": null,
            "_model_module_version": "1.2.0",
            "_view_count": null,
            "flex_flow": null,
            "width": null,
            "min_width": null,
            "border": null,
            "align_items": null,
            "bottom": null,
            "_model_module": "@jupyter-widgets/base",
            "top": null,
            "grid_column": null,
            "overflow_y": null,
            "overflow_x": null,
            "grid_auto_flow": null,
            "grid_area": null,
            "grid_template_columns": null,
            "flex": null,
            "_model_name": "LayoutModel",
            "justify_items": null,
            "grid_row": null,
            "max_height": null,
            "align_content": null,
            "visibility": null,
            "align_self": null,
            "height": null,
            "min_height": null,
            "padding": null,
            "grid_auto_rows": null,
            "grid_gap": null,
            "max_width": null,
            "order": null,
            "_view_module_version": "1.2.0",
            "grid_template_areas": null,
            "object_position": null,
            "object_fit": null,
            "grid_auto_columns": null,
            "margin": null,
            "display": null,
            "left": null
          }
        },
        "d758b33638ac4c718b1eb2986403b1fa": {
          "model_module": "@jupyter-widgets/controls",
          "model_name": "HBoxModel",
          "state": {
            "_view_name": "HBoxView",
            "_dom_classes": [],
            "_model_name": "HBoxModel",
            "_view_module": "@jupyter-widgets/controls",
            "_model_module_version": "1.5.0",
            "_view_count": null,
            "_view_module_version": "1.5.0",
            "box_style": "",
            "layout": "IPY_MODEL_53588f352f684127ae048dcba78feb8a",
            "_model_module": "@jupyter-widgets/controls",
            "children": [
              "IPY_MODEL_74c47cb1e9894b8bb5d0afb8b65d4de9",
              "IPY_MODEL_6dcc9c8e5d5c4b77bbf43cfd223ab2f8"
            ]
          }
        },
        "53588f352f684127ae048dcba78feb8a": {
          "model_module": "@jupyter-widgets/base",
          "model_name": "LayoutModel",
          "state": {
            "_view_name": "LayoutView",
            "grid_template_rows": null,
            "right": null,
            "justify_content": null,
            "_view_module": "@jupyter-widgets/base",
            "overflow": null,
            "_model_module_version": "1.2.0",
            "_view_count": null,
            "flex_flow": null,
            "width": null,
            "min_width": null,
            "border": null,
            "align_items": null,
            "bottom": null,
            "_model_module": "@jupyter-widgets/base",
            "top": null,
            "grid_column": null,
            "overflow_y": null,
            "overflow_x": null,
            "grid_auto_flow": null,
            "grid_area": null,
            "grid_template_columns": null,
            "flex": null,
            "_model_name": "LayoutModel",
            "justify_items": null,
            "grid_row": null,
            "max_height": null,
            "align_content": null,
            "visibility": null,
            "align_self": null,
            "height": null,
            "min_height": null,
            "padding": null,
            "grid_auto_rows": null,
            "grid_gap": null,
            "max_width": null,
            "order": null,
            "_view_module_version": "1.2.0",
            "grid_template_areas": null,
            "object_position": null,
            "object_fit": null,
            "grid_auto_columns": null,
            "margin": null,
            "display": null,
            "left": null
          }
        },
        "74c47cb1e9894b8bb5d0afb8b65d4de9": {
          "model_module": "@jupyter-widgets/controls",
          "model_name": "FloatProgressModel",
          "state": {
            "_view_name": "ProgressView",
            "style": "IPY_MODEL_322da41fccfa469b8cd963f28951c562",
            "_dom_classes": [],
            "description": "100%",
            "_model_name": "FloatProgressModel",
            "bar_style": "danger",
            "max": 85511,
            "_view_module": "@jupyter-widgets/controls",
            "_model_module_version": "1.5.0",
            "value": 85416,
            "_view_count": null,
            "_view_module_version": "1.5.0",
            "orientation": "horizontal",
            "min": 0,
            "description_tooltip": null,
            "_model_module": "@jupyter-widgets/controls",
            "layout": "IPY_MODEL_1b4a233853a74757a900fcde028c88ae"
          }
        },
        "6dcc9c8e5d5c4b77bbf43cfd223ab2f8": {
          "model_module": "@jupyter-widgets/controls",
          "model_name": "HTMLModel",
          "state": {
            "_view_name": "HTMLView",
            "style": "IPY_MODEL_9c8ea0293305431a81ee07b12389de90",
            "_dom_classes": [],
            "description": "",
            "_model_name": "HTMLModel",
            "placeholder": "​",
            "_view_module": "@jupyter-widgets/controls",
            "_model_module_version": "1.5.0",
            "value": " 85416/85511 [01:50&lt;00:00, 719.50 examples/s]",
            "_view_count": null,
            "_view_module_version": "1.5.0",
            "description_tooltip": null,
            "_model_module": "@jupyter-widgets/controls",
            "layout": "IPY_MODEL_5a29c32ec0ba4e4ba1b0ecf7bb95aaf8"
          }
        },
        "322da41fccfa469b8cd963f28951c562": {
          "model_module": "@jupyter-widgets/controls",
          "model_name": "ProgressStyleModel",
          "state": {
            "_view_name": "StyleView",
            "_model_name": "ProgressStyleModel",
            "description_width": "initial",
            "_view_module": "@jupyter-widgets/base",
            "_model_module_version": "1.5.0",
            "_view_count": null,
            "_view_module_version": "1.2.0",
            "bar_color": null,
            "_model_module": "@jupyter-widgets/controls"
          }
        },
        "1b4a233853a74757a900fcde028c88ae": {
          "model_module": "@jupyter-widgets/base",
          "model_name": "LayoutModel",
          "state": {
            "_view_name": "LayoutView",
            "grid_template_rows": null,
            "right": null,
            "justify_content": null,
            "_view_module": "@jupyter-widgets/base",
            "overflow": null,
            "_model_module_version": "1.2.0",
            "_view_count": null,
            "flex_flow": null,
            "width": null,
            "min_width": null,
            "border": null,
            "align_items": null,
            "bottom": null,
            "_model_module": "@jupyter-widgets/base",
            "top": null,
            "grid_column": null,
            "overflow_y": null,
            "overflow_x": null,
            "grid_auto_flow": null,
            "grid_area": null,
            "grid_template_columns": null,
            "flex": null,
            "_model_name": "LayoutModel",
            "justify_items": null,
            "grid_row": null,
            "max_height": null,
            "align_content": null,
            "visibility": null,
            "align_self": null,
            "height": null,
            "min_height": null,
            "padding": null,
            "grid_auto_rows": null,
            "grid_gap": null,
            "max_width": null,
            "order": null,
            "_view_module_version": "1.2.0",
            "grid_template_areas": null,
            "object_position": null,
            "object_fit": null,
            "grid_auto_columns": null,
            "margin": null,
            "display": null,
            "left": null
          }
        },
        "9c8ea0293305431a81ee07b12389de90": {
          "model_module": "@jupyter-widgets/controls",
          "model_name": "DescriptionStyleModel",
          "state": {
            "_view_name": "StyleView",
            "_model_name": "DescriptionStyleModel",
            "description_width": "",
            "_view_module": "@jupyter-widgets/base",
            "_model_module_version": "1.5.0",
            "_view_count": null,
            "_view_module_version": "1.2.0",
            "_model_module": "@jupyter-widgets/controls"
          }
        },
        "5a29c32ec0ba4e4ba1b0ecf7bb95aaf8": {
          "model_module": "@jupyter-widgets/base",
          "model_name": "LayoutModel",
          "state": {
            "_view_name": "LayoutView",
            "grid_template_rows": null,
            "right": null,
            "justify_content": null,
            "_view_module": "@jupyter-widgets/base",
            "overflow": null,
            "_model_module_version": "1.2.0",
            "_view_count": null,
            "flex_flow": null,
            "width": null,
            "min_width": null,
            "border": null,
            "align_items": null,
            "bottom": null,
            "_model_module": "@jupyter-widgets/base",
            "top": null,
            "grid_column": null,
            "overflow_y": null,
            "overflow_x": null,
            "grid_auto_flow": null,
            "grid_area": null,
            "grid_template_columns": null,
            "flex": null,
            "_model_name": "LayoutModel",
            "justify_items": null,
            "grid_row": null,
            "max_height": null,
            "align_content": null,
            "visibility": null,
            "align_self": null,
            "height": null,
            "min_height": null,
            "padding": null,
            "grid_auto_rows": null,
            "grid_gap": null,
            "max_width": null,
            "order": null,
            "_view_module_version": "1.2.0",
            "grid_template_areas": null,
            "object_position": null,
            "object_fit": null,
            "grid_auto_columns": null,
            "margin": null,
            "display": null,
            "left": null
          }
        },
        "51988ec3cb9a4f378443807ce28093a5": {
          "model_module": "@jupyter-widgets/controls",
          "model_name": "HBoxModel",
          "state": {
            "_view_name": "HBoxView",
            "_dom_classes": [],
            "_model_name": "HBoxModel",
            "_view_module": "@jupyter-widgets/controls",
            "_model_module_version": "1.5.0",
            "_view_count": null,
            "_view_module_version": "1.5.0",
            "box_style": "",
            "layout": "IPY_MODEL_8e91f8a008844204b339cd2c0c6b36a3",
            "_model_module": "@jupyter-widgets/controls",
            "children": [
              "IPY_MODEL_70ecf8c34ba04351be610edac26469c3",
              "IPY_MODEL_df86dba02a62438eac18ff5117aef36e"
            ]
          }
        },
        "8e91f8a008844204b339cd2c0c6b36a3": {
          "model_module": "@jupyter-widgets/base",
          "model_name": "LayoutModel",
          "state": {
            "_view_name": "LayoutView",
            "grid_template_rows": null,
            "right": null,
            "justify_content": null,
            "_view_module": "@jupyter-widgets/base",
            "overflow": null,
            "_model_module_version": "1.2.0",
            "_view_count": null,
            "flex_flow": null,
            "width": null,
            "min_width": null,
            "border": null,
            "align_items": null,
            "bottom": null,
            "_model_module": "@jupyter-widgets/base",
            "top": null,
            "grid_column": null,
            "overflow_y": null,
            "overflow_x": null,
            "grid_auto_flow": null,
            "grid_area": null,
            "grid_template_columns": null,
            "flex": null,
            "_model_name": "LayoutModel",
            "justify_items": null,
            "grid_row": null,
            "max_height": null,
            "align_content": null,
            "visibility": null,
            "align_self": null,
            "height": null,
            "min_height": null,
            "padding": null,
            "grid_auto_rows": null,
            "grid_gap": null,
            "max_width": null,
            "order": null,
            "_view_module_version": "1.2.0",
            "grid_template_areas": null,
            "object_position": null,
            "object_fit": null,
            "grid_auto_columns": null,
            "margin": null,
            "display": null,
            "left": null
          }
        },
        "70ecf8c34ba04351be610edac26469c3": {
          "model_module": "@jupyter-widgets/controls",
          "model_name": "FloatProgressModel",
          "state": {
            "_view_name": "ProgressView",
            "style": "IPY_MODEL_50557be8f0ac4d04a624c1962cf6e801",
            "_dom_classes": [],
            "description": "",
            "_model_name": "FloatProgressModel",
            "bar_style": "info",
            "max": 1,
            "_view_module": "@jupyter-widgets/controls",
            "_model_module_version": "1.5.0",
            "value": 1,
            "_view_count": null,
            "_view_module_version": "1.5.0",
            "orientation": "horizontal",
            "min": 0,
            "description_tooltip": null,
            "_model_module": "@jupyter-widgets/controls",
            "layout": "IPY_MODEL_a019a0e629954f59984b86c462bf0f10"
          }
        },
        "df86dba02a62438eac18ff5117aef36e": {
          "model_module": "@jupyter-widgets/controls",
          "model_name": "HTMLModel",
          "state": {
            "_view_name": "HTMLView",
            "style": "IPY_MODEL_7a2feb3d36e04a15b0500e8b6450423d",
            "_dom_classes": [],
            "description": "",
            "_model_name": "HTMLModel",
            "placeholder": "​",
            "_view_module": "@jupyter-widgets/controls",
            "_model_module_version": "1.5.0",
            "value": " 10102/0 [01:55&lt;00:00, 83.79 examples/s]",
            "_view_count": null,
            "_view_module_version": "1.5.0",
            "description_tooltip": null,
            "_model_module": "@jupyter-widgets/controls",
            "layout": "IPY_MODEL_cb130736e38b4ca4bc2836650e198785"
          }
        },
        "50557be8f0ac4d04a624c1962cf6e801": {
          "model_module": "@jupyter-widgets/controls",
          "model_name": "ProgressStyleModel",
          "state": {
            "_view_name": "StyleView",
            "_model_name": "ProgressStyleModel",
            "description_width": "initial",
            "_view_module": "@jupyter-widgets/base",
            "_model_module_version": "1.5.0",
            "_view_count": null,
            "_view_module_version": "1.2.0",
            "bar_color": null,
            "_model_module": "@jupyter-widgets/controls"
          }
        },
        "a019a0e629954f59984b86c462bf0f10": {
          "model_module": "@jupyter-widgets/base",
          "model_name": "LayoutModel",
          "state": {
            "_view_name": "LayoutView",
            "grid_template_rows": null,
            "right": null,
            "justify_content": null,
            "_view_module": "@jupyter-widgets/base",
            "overflow": null,
            "_model_module_version": "1.2.0",
            "_view_count": null,
            "flex_flow": null,
            "width": null,
            "min_width": null,
            "border": null,
            "align_items": null,
            "bottom": null,
            "_model_module": "@jupyter-widgets/base",
            "top": null,
            "grid_column": null,
            "overflow_y": null,
            "overflow_x": null,
            "grid_auto_flow": null,
            "grid_area": null,
            "grid_template_columns": null,
            "flex": null,
            "_model_name": "LayoutModel",
            "justify_items": null,
            "grid_row": null,
            "max_height": null,
            "align_content": null,
            "visibility": null,
            "align_self": null,
            "height": null,
            "min_height": null,
            "padding": null,
            "grid_auto_rows": null,
            "grid_gap": null,
            "max_width": null,
            "order": null,
            "_view_module_version": "1.2.0",
            "grid_template_areas": null,
            "object_position": null,
            "object_fit": null,
            "grid_auto_columns": null,
            "margin": null,
            "display": null,
            "left": null
          }
        },
        "7a2feb3d36e04a15b0500e8b6450423d": {
          "model_module": "@jupyter-widgets/controls",
          "model_name": "DescriptionStyleModel",
          "state": {
            "_view_name": "StyleView",
            "_model_name": "DescriptionStyleModel",
            "description_width": "",
            "_view_module": "@jupyter-widgets/base",
            "_model_module_version": "1.5.0",
            "_view_count": null,
            "_view_module_version": "1.2.0",
            "_model_module": "@jupyter-widgets/controls"
          }
        },
        "cb130736e38b4ca4bc2836650e198785": {
          "model_module": "@jupyter-widgets/base",
          "model_name": "LayoutModel",
          "state": {
            "_view_name": "LayoutView",
            "grid_template_rows": null,
            "right": null,
            "justify_content": null,
            "_view_module": "@jupyter-widgets/base",
            "overflow": null,
            "_model_module_version": "1.2.0",
            "_view_count": null,
            "flex_flow": null,
            "width": null,
            "min_width": null,
            "border": null,
            "align_items": null,
            "bottom": null,
            "_model_module": "@jupyter-widgets/base",
            "top": null,
            "grid_column": null,
            "overflow_y": null,
            "overflow_x": null,
            "grid_auto_flow": null,
            "grid_area": null,
            "grid_template_columns": null,
            "flex": null,
            "_model_name": "LayoutModel",
            "justify_items": null,
            "grid_row": null,
            "max_height": null,
            "align_content": null,
            "visibility": null,
            "align_self": null,
            "height": null,
            "min_height": null,
            "padding": null,
            "grid_auto_rows": null,
            "grid_gap": null,
            "max_width": null,
            "order": null,
            "_view_module_version": "1.2.0",
            "grid_template_areas": null,
            "object_position": null,
            "object_fit": null,
            "grid_auto_columns": null,
            "margin": null,
            "display": null,
            "left": null
          }
        },
        "1c9c93013da049de91b31a2aeb99b924": {
          "model_module": "@jupyter-widgets/controls",
          "model_name": "HBoxModel",
          "state": {
            "_view_name": "HBoxView",
            "_dom_classes": [],
            "_model_name": "HBoxModel",
            "_view_module": "@jupyter-widgets/controls",
            "_model_module_version": "1.5.0",
            "_view_count": null,
            "_view_module_version": "1.5.0",
            "box_style": "",
            "layout": "IPY_MODEL_fc3a1b64fc974c52a3eeac45146c6e64",
            "_model_module": "@jupyter-widgets/controls",
            "children": [
              "IPY_MODEL_8c4d826a4d1242e2bb45cb47f44ccc6f",
              "IPY_MODEL_c90e658c7e734eed9032d7c0e55f25d3"
            ]
          }
        },
        "fc3a1b64fc974c52a3eeac45146c6e64": {
          "model_module": "@jupyter-widgets/base",
          "model_name": "LayoutModel",
          "state": {
            "_view_name": "LayoutView",
            "grid_template_rows": null,
            "right": null,
            "justify_content": null,
            "_view_module": "@jupyter-widgets/base",
            "overflow": null,
            "_model_module_version": "1.2.0",
            "_view_count": null,
            "flex_flow": null,
            "width": null,
            "min_width": null,
            "border": null,
            "align_items": null,
            "bottom": null,
            "_model_module": "@jupyter-widgets/base",
            "top": null,
            "grid_column": null,
            "overflow_y": null,
            "overflow_x": null,
            "grid_auto_flow": null,
            "grid_area": null,
            "grid_template_columns": null,
            "flex": null,
            "_model_name": "LayoutModel",
            "justify_items": null,
            "grid_row": null,
            "max_height": null,
            "align_content": null,
            "visibility": null,
            "align_self": null,
            "height": null,
            "min_height": null,
            "padding": null,
            "grid_auto_rows": null,
            "grid_gap": null,
            "max_width": null,
            "order": null,
            "_view_module_version": "1.2.0",
            "grid_template_areas": null,
            "object_position": null,
            "object_fit": null,
            "grid_auto_columns": null,
            "margin": null,
            "display": null,
            "left": null
          }
        },
        "8c4d826a4d1242e2bb45cb47f44ccc6f": {
          "model_module": "@jupyter-widgets/controls",
          "model_name": "FloatProgressModel",
          "state": {
            "_view_name": "ProgressView",
            "style": "IPY_MODEL_9cf638aaea7c47f18cea575e721f36a1",
            "_dom_classes": [],
            "description": " 98%",
            "_model_name": "FloatProgressModel",
            "bar_style": "danger",
            "max": 10102,
            "_view_module": "@jupyter-widgets/controls",
            "_model_module_version": "1.5.0",
            "value": 9945,
            "_view_count": null,
            "_view_module_version": "1.5.0",
            "orientation": "horizontal",
            "min": 0,
            "description_tooltip": null,
            "_model_module": "@jupyter-widgets/controls",
            "layout": "IPY_MODEL_6ad1e0a7891e4ae6a7b7b59ce5df04ed"
          }
        },
        "c90e658c7e734eed9032d7c0e55f25d3": {
          "model_module": "@jupyter-widgets/controls",
          "model_name": "HTMLModel",
          "state": {
            "_view_name": "HTMLView",
            "style": "IPY_MODEL_e73c68144ae6458ebf32b2cfb272011f",
            "_dom_classes": [],
            "description": "",
            "_model_name": "HTMLModel",
            "placeholder": "​",
            "_view_module": "@jupyter-widgets/controls",
            "_model_module_version": "1.5.0",
            "value": " 9945/10102 [00:02&lt;00:00, 2633.18 examples/s]",
            "_view_count": null,
            "_view_module_version": "1.5.0",
            "description_tooltip": null,
            "_model_module": "@jupyter-widgets/controls",
            "layout": "IPY_MODEL_2fa36becb4694382b2b245336d147bc6"
          }
        },
        "9cf638aaea7c47f18cea575e721f36a1": {
          "model_module": "@jupyter-widgets/controls",
          "model_name": "ProgressStyleModel",
          "state": {
            "_view_name": "StyleView",
            "_model_name": "ProgressStyleModel",
            "description_width": "initial",
            "_view_module": "@jupyter-widgets/base",
            "_model_module_version": "1.5.0",
            "_view_count": null,
            "_view_module_version": "1.2.0",
            "bar_color": null,
            "_model_module": "@jupyter-widgets/controls"
          }
        },
        "6ad1e0a7891e4ae6a7b7b59ce5df04ed": {
          "model_module": "@jupyter-widgets/base",
          "model_name": "LayoutModel",
          "state": {
            "_view_name": "LayoutView",
            "grid_template_rows": null,
            "right": null,
            "justify_content": null,
            "_view_module": "@jupyter-widgets/base",
            "overflow": null,
            "_model_module_version": "1.2.0",
            "_view_count": null,
            "flex_flow": null,
            "width": null,
            "min_width": null,
            "border": null,
            "align_items": null,
            "bottom": null,
            "_model_module": "@jupyter-widgets/base",
            "top": null,
            "grid_column": null,
            "overflow_y": null,
            "overflow_x": null,
            "grid_auto_flow": null,
            "grid_area": null,
            "grid_template_columns": null,
            "flex": null,
            "_model_name": "LayoutModel",
            "justify_items": null,
            "grid_row": null,
            "max_height": null,
            "align_content": null,
            "visibility": null,
            "align_self": null,
            "height": null,
            "min_height": null,
            "padding": null,
            "grid_auto_rows": null,
            "grid_gap": null,
            "max_width": null,
            "order": null,
            "_view_module_version": "1.2.0",
            "grid_template_areas": null,
            "object_position": null,
            "object_fit": null,
            "grid_auto_columns": null,
            "margin": null,
            "display": null,
            "left": null
          }
        },
        "e73c68144ae6458ebf32b2cfb272011f": {
          "model_module": "@jupyter-widgets/controls",
          "model_name": "DescriptionStyleModel",
          "state": {
            "_view_name": "StyleView",
            "_model_name": "DescriptionStyleModel",
            "description_width": "",
            "_view_module": "@jupyter-widgets/base",
            "_model_module_version": "1.5.0",
            "_view_count": null,
            "_view_module_version": "1.2.0",
            "_model_module": "@jupyter-widgets/controls"
          }
        },
        "2fa36becb4694382b2b245336d147bc6": {
          "model_module": "@jupyter-widgets/base",
          "model_name": "LayoutModel",
          "state": {
            "_view_name": "LayoutView",
            "grid_template_rows": null,
            "right": null,
            "justify_content": null,
            "_view_module": "@jupyter-widgets/base",
            "overflow": null,
            "_model_module_version": "1.2.0",
            "_view_count": null,
            "flex_flow": null,
            "width": null,
            "min_width": null,
            "border": null,
            "align_items": null,
            "bottom": null,
            "_model_module": "@jupyter-widgets/base",
            "top": null,
            "grid_column": null,
            "overflow_y": null,
            "overflow_x": null,
            "grid_auto_flow": null,
            "grid_area": null,
            "grid_template_columns": null,
            "flex": null,
            "_model_name": "LayoutModel",
            "justify_items": null,
            "grid_row": null,
            "max_height": null,
            "align_content": null,
            "visibility": null,
            "align_self": null,
            "height": null,
            "min_height": null,
            "padding": null,
            "grid_auto_rows": null,
            "grid_gap": null,
            "max_width": null,
            "order": null,
            "_view_module_version": "1.2.0",
            "grid_template_areas": null,
            "object_position": null,
            "object_fit": null,
            "grid_auto_columns": null,
            "margin": null,
            "display": null,
            "left": null
          }
        },
        "bd830c6945b14d6e80177c16c6304a09": {
          "model_module": "@jupyter-widgets/controls",
          "model_name": "HBoxModel",
          "state": {
            "_view_name": "HBoxView",
            "_dom_classes": [],
            "_model_name": "HBoxModel",
            "_view_module": "@jupyter-widgets/controls",
            "_model_module_version": "1.5.0",
            "_view_count": null,
            "_view_module_version": "1.5.0",
            "box_style": "",
            "layout": "IPY_MODEL_c78ad2cb6450457580c0e32518f6a3de",
            "_model_module": "@jupyter-widgets/controls",
            "children": [
              "IPY_MODEL_8934ebd96b4e40ce99729b3db66a91ab",
              "IPY_MODEL_dc05f851999449069b1b7754b480b408"
            ]
          }
        },
        "c78ad2cb6450457580c0e32518f6a3de": {
          "model_module": "@jupyter-widgets/base",
          "model_name": "LayoutModel",
          "state": {
            "_view_name": "LayoutView",
            "grid_template_rows": null,
            "right": null,
            "justify_content": null,
            "_view_module": "@jupyter-widgets/base",
            "overflow": null,
            "_model_module_version": "1.2.0",
            "_view_count": null,
            "flex_flow": null,
            "width": null,
            "min_width": null,
            "border": null,
            "align_items": null,
            "bottom": null,
            "_model_module": "@jupyter-widgets/base",
            "top": null,
            "grid_column": null,
            "overflow_y": null,
            "overflow_x": null,
            "grid_auto_flow": null,
            "grid_area": null,
            "grid_template_columns": null,
            "flex": null,
            "_model_name": "LayoutModel",
            "justify_items": null,
            "grid_row": null,
            "max_height": null,
            "align_content": null,
            "visibility": null,
            "align_self": null,
            "height": null,
            "min_height": null,
            "padding": null,
            "grid_auto_rows": null,
            "grid_gap": null,
            "max_width": null,
            "order": null,
            "_view_module_version": "1.2.0",
            "grid_template_areas": null,
            "object_position": null,
            "object_fit": null,
            "grid_auto_columns": null,
            "margin": null,
            "display": null,
            "left": null
          }
        },
        "8934ebd96b4e40ce99729b3db66a91ab": {
          "model_module": "@jupyter-widgets/controls",
          "model_name": "FloatProgressModel",
          "state": {
            "_view_name": "ProgressView",
            "style": "IPY_MODEL_fe598f14f6f0451a8b219500d872941a",
            "_dom_classes": [],
            "description": "",
            "_model_name": "FloatProgressModel",
            "bar_style": "info",
            "max": 1,
            "_view_module": "@jupyter-widgets/controls",
            "_model_module_version": "1.5.0",
            "value": 1,
            "_view_count": null,
            "_view_module_version": "1.5.0",
            "orientation": "horizontal",
            "min": 0,
            "description_tooltip": null,
            "_model_module": "@jupyter-widgets/controls",
            "layout": "IPY_MODEL_87eb47b6eba04b1f8199c1f2bc28fc20"
          }
        },
        "dc05f851999449069b1b7754b480b408": {
          "model_module": "@jupyter-widgets/controls",
          "model_name": "HTMLModel",
          "state": {
            "_view_name": "HTMLView",
            "style": "IPY_MODEL_60601fb813c64f7c950babfb2aa4eb46",
            "_dom_classes": [],
            "description": "",
            "_model_name": "HTMLModel",
            "placeholder": "​",
            "_view_module": "@jupyter-widgets/controls",
            "_model_module_version": "1.5.0",
            "value": " 4890/0 [00:32&lt;00:00, 170.36 examples/s]",
            "_view_count": null,
            "_view_module_version": "1.5.0",
            "description_tooltip": null,
            "_model_module": "@jupyter-widgets/controls",
            "layout": "IPY_MODEL_475109062de64e41acbd8167c89cd404"
          }
        },
        "fe598f14f6f0451a8b219500d872941a": {
          "model_module": "@jupyter-widgets/controls",
          "model_name": "ProgressStyleModel",
          "state": {
            "_view_name": "StyleView",
            "_model_name": "ProgressStyleModel",
            "description_width": "initial",
            "_view_module": "@jupyter-widgets/base",
            "_model_module_version": "1.5.0",
            "_view_count": null,
            "_view_module_version": "1.2.0",
            "bar_color": null,
            "_model_module": "@jupyter-widgets/controls"
          }
        },
        "87eb47b6eba04b1f8199c1f2bc28fc20": {
          "model_module": "@jupyter-widgets/base",
          "model_name": "LayoutModel",
          "state": {
            "_view_name": "LayoutView",
            "grid_template_rows": null,
            "right": null,
            "justify_content": null,
            "_view_module": "@jupyter-widgets/base",
            "overflow": null,
            "_model_module_version": "1.2.0",
            "_view_count": null,
            "flex_flow": null,
            "width": null,
            "min_width": null,
            "border": null,
            "align_items": null,
            "bottom": null,
            "_model_module": "@jupyter-widgets/base",
            "top": null,
            "grid_column": null,
            "overflow_y": null,
            "overflow_x": null,
            "grid_auto_flow": null,
            "grid_area": null,
            "grid_template_columns": null,
            "flex": null,
            "_model_name": "LayoutModel",
            "justify_items": null,
            "grid_row": null,
            "max_height": null,
            "align_content": null,
            "visibility": null,
            "align_self": null,
            "height": null,
            "min_height": null,
            "padding": null,
            "grid_auto_rows": null,
            "grid_gap": null,
            "max_width": null,
            "order": null,
            "_view_module_version": "1.2.0",
            "grid_template_areas": null,
            "object_position": null,
            "object_fit": null,
            "grid_auto_columns": null,
            "margin": null,
            "display": null,
            "left": null
          }
        },
        "60601fb813c64f7c950babfb2aa4eb46": {
          "model_module": "@jupyter-widgets/controls",
          "model_name": "DescriptionStyleModel",
          "state": {
            "_view_name": "StyleView",
            "_model_name": "DescriptionStyleModel",
            "description_width": "",
            "_view_module": "@jupyter-widgets/base",
            "_model_module_version": "1.5.0",
            "_view_count": null,
            "_view_module_version": "1.2.0",
            "_model_module": "@jupyter-widgets/controls"
          }
        },
        "475109062de64e41acbd8167c89cd404": {
          "model_module": "@jupyter-widgets/base",
          "model_name": "LayoutModel",
          "state": {
            "_view_name": "LayoutView",
            "grid_template_rows": null,
            "right": null,
            "justify_content": null,
            "_view_module": "@jupyter-widgets/base",
            "overflow": null,
            "_model_module_version": "1.2.0",
            "_view_count": null,
            "flex_flow": null,
            "width": null,
            "min_width": null,
            "border": null,
            "align_items": null,
            "bottom": null,
            "_model_module": "@jupyter-widgets/base",
            "top": null,
            "grid_column": null,
            "overflow_y": null,
            "overflow_x": null,
            "grid_auto_flow": null,
            "grid_area": null,
            "grid_template_columns": null,
            "flex": null,
            "_model_name": "LayoutModel",
            "justify_items": null,
            "grid_row": null,
            "max_height": null,
            "align_content": null,
            "visibility": null,
            "align_self": null,
            "height": null,
            "min_height": null,
            "padding": null,
            "grid_auto_rows": null,
            "grid_gap": null,
            "max_width": null,
            "order": null,
            "_view_module_version": "1.2.0",
            "grid_template_areas": null,
            "object_position": null,
            "object_fit": null,
            "grid_auto_columns": null,
            "margin": null,
            "display": null,
            "left": null
          }
        },
        "844ab00b0aff4f198f0017b817028dbc": {
          "model_module": "@jupyter-widgets/controls",
          "model_name": "HBoxModel",
          "state": {
            "_view_name": "HBoxView",
            "_dom_classes": [],
            "_model_name": "HBoxModel",
            "_view_module": "@jupyter-widgets/controls",
            "_model_module_version": "1.5.0",
            "_view_count": null,
            "_view_module_version": "1.5.0",
            "box_style": "",
            "layout": "IPY_MODEL_4be3dae3893a46b187abc1d3d3d213be",
            "_model_module": "@jupyter-widgets/controls",
            "children": [
              "IPY_MODEL_37fd3cb854d04ad2b12342e84a5bca1b",
              "IPY_MODEL_41af5fbb7e40488b90c206a1da11dbeb"
            ]
          }
        },
        "4be3dae3893a46b187abc1d3d3d213be": {
          "model_module": "@jupyter-widgets/base",
          "model_name": "LayoutModel",
          "state": {
            "_view_name": "LayoutView",
            "grid_template_rows": null,
            "right": null,
            "justify_content": null,
            "_view_module": "@jupyter-widgets/base",
            "overflow": null,
            "_model_module_version": "1.2.0",
            "_view_count": null,
            "flex_flow": null,
            "width": null,
            "min_width": null,
            "border": null,
            "align_items": null,
            "bottom": null,
            "_model_module": "@jupyter-widgets/base",
            "top": null,
            "grid_column": null,
            "overflow_y": null,
            "overflow_x": null,
            "grid_auto_flow": null,
            "grid_area": null,
            "grid_template_columns": null,
            "flex": null,
            "_model_name": "LayoutModel",
            "justify_items": null,
            "grid_row": null,
            "max_height": null,
            "align_content": null,
            "visibility": null,
            "align_self": null,
            "height": null,
            "min_height": null,
            "padding": null,
            "grid_auto_rows": null,
            "grid_gap": null,
            "max_width": null,
            "order": null,
            "_view_module_version": "1.2.0",
            "grid_template_areas": null,
            "object_position": null,
            "object_fit": null,
            "grid_auto_columns": null,
            "margin": null,
            "display": null,
            "left": null
          }
        },
        "37fd3cb854d04ad2b12342e84a5bca1b": {
          "model_module": "@jupyter-widgets/controls",
          "model_name": "FloatProgressModel",
          "state": {
            "_view_name": "ProgressView",
            "style": "IPY_MODEL_39c4e32a70844233aa3cb028e95e3f53",
            "_dom_classes": [],
            "description": " 90%",
            "_model_name": "FloatProgressModel",
            "bar_style": "danger",
            "max": 4890,
            "_view_module": "@jupyter-widgets/controls",
            "_model_module_version": "1.5.0",
            "value": 4400,
            "_view_count": null,
            "_view_module_version": "1.5.0",
            "orientation": "horizontal",
            "min": 0,
            "description_tooltip": null,
            "_model_module": "@jupyter-widgets/controls",
            "layout": "IPY_MODEL_4a87c3f119f04c2f817edaf116c6fe93"
          }
        },
        "41af5fbb7e40488b90c206a1da11dbeb": {
          "model_module": "@jupyter-widgets/controls",
          "model_name": "HTMLModel",
          "state": {
            "_view_name": "HTMLView",
            "style": "IPY_MODEL_48f83f305bc54d40b7badcc03d1da780",
            "_dom_classes": [],
            "description": "",
            "_model_name": "HTMLModel",
            "placeholder": "​",
            "_view_module": "@jupyter-widgets/controls",
            "_model_module_version": "1.5.0",
            "value": " 4400/4890 [00:01&lt;00:00, 5987.54 examples/s]",
            "_view_count": null,
            "_view_module_version": "1.5.0",
            "description_tooltip": null,
            "_model_module": "@jupyter-widgets/controls",
            "layout": "IPY_MODEL_d0da5f1bbf1048699447a315faf01dc4"
          }
        },
        "39c4e32a70844233aa3cb028e95e3f53": {
          "model_module": "@jupyter-widgets/controls",
          "model_name": "ProgressStyleModel",
          "state": {
            "_view_name": "StyleView",
            "_model_name": "ProgressStyleModel",
            "description_width": "initial",
            "_view_module": "@jupyter-widgets/base",
            "_model_module_version": "1.5.0",
            "_view_count": null,
            "_view_module_version": "1.2.0",
            "bar_color": null,
            "_model_module": "@jupyter-widgets/controls"
          }
        },
        "4a87c3f119f04c2f817edaf116c6fe93": {
          "model_module": "@jupyter-widgets/base",
          "model_name": "LayoutModel",
          "state": {
            "_view_name": "LayoutView",
            "grid_template_rows": null,
            "right": null,
            "justify_content": null,
            "_view_module": "@jupyter-widgets/base",
            "overflow": null,
            "_model_module_version": "1.2.0",
            "_view_count": null,
            "flex_flow": null,
            "width": null,
            "min_width": null,
            "border": null,
            "align_items": null,
            "bottom": null,
            "_model_module": "@jupyter-widgets/base",
            "top": null,
            "grid_column": null,
            "overflow_y": null,
            "overflow_x": null,
            "grid_auto_flow": null,
            "grid_area": null,
            "grid_template_columns": null,
            "flex": null,
            "_model_name": "LayoutModel",
            "justify_items": null,
            "grid_row": null,
            "max_height": null,
            "align_content": null,
            "visibility": null,
            "align_self": null,
            "height": null,
            "min_height": null,
            "padding": null,
            "grid_auto_rows": null,
            "grid_gap": null,
            "max_width": null,
            "order": null,
            "_view_module_version": "1.2.0",
            "grid_template_areas": null,
            "object_position": null,
            "object_fit": null,
            "grid_auto_columns": null,
            "margin": null,
            "display": null,
            "left": null
          }
        },
        "48f83f305bc54d40b7badcc03d1da780": {
          "model_module": "@jupyter-widgets/controls",
          "model_name": "DescriptionStyleModel",
          "state": {
            "_view_name": "StyleView",
            "_model_name": "DescriptionStyleModel",
            "description_width": "",
            "_view_module": "@jupyter-widgets/base",
            "_model_module_version": "1.5.0",
            "_view_count": null,
            "_view_module_version": "1.2.0",
            "_model_module": "@jupyter-widgets/controls"
          }
        },
        "d0da5f1bbf1048699447a315faf01dc4": {
          "model_module": "@jupyter-widgets/base",
          "model_name": "LayoutModel",
          "state": {
            "_view_name": "LayoutView",
            "grid_template_rows": null,
            "right": null,
            "justify_content": null,
            "_view_module": "@jupyter-widgets/base",
            "overflow": null,
            "_model_module_version": "1.2.0",
            "_view_count": null,
            "flex_flow": null,
            "width": null,
            "min_width": null,
            "border": null,
            "align_items": null,
            "bottom": null,
            "_model_module": "@jupyter-widgets/base",
            "top": null,
            "grid_column": null,
            "overflow_y": null,
            "overflow_x": null,
            "grid_auto_flow": null,
            "grid_area": null,
            "grid_template_columns": null,
            "flex": null,
            "_model_name": "LayoutModel",
            "justify_items": null,
            "grid_row": null,
            "max_height": null,
            "align_content": null,
            "visibility": null,
            "align_self": null,
            "height": null,
            "min_height": null,
            "padding": null,
            "grid_auto_rows": null,
            "grid_gap": null,
            "max_width": null,
            "order": null,
            "_view_module_version": "1.2.0",
            "grid_template_areas": null,
            "object_position": null,
            "object_fit": null,
            "grid_auto_columns": null,
            "margin": null,
            "display": null,
            "left": null
          }
        }
      }
    }
  },
  "cells": [
    {
      "cell_type": "markdown",
      "metadata": {
        "id": "view-in-github",
        "colab_type": "text"
      },
      "source": [
        "<a href=\"https://colab.research.google.com/github/Croftc/cnn/blob/main/cnn.ipynb\" target=\"_parent\"><img src=\"https://colab.research.google.com/assets/colab-badge.svg\" alt=\"Open In Colab\"/></a>"
      ]
    },
    {
      "cell_type": "markdown",
      "metadata": {
        "id": "bhcnqfawZhmx"
      },
      "source": [
        "# Problem Set 8: Convolutional Neural Networks\n",
        "# CMSC 422, Fall 2020\n",
        "# Due Dec 4 at 11:59pm\n",
        "\n",
        "<center>\n",
        "\n",
        "<img src=\"https://i.imgflip.com/4l0ruv.jpg\" alt=\"meme\" width=\"500px\"/>\n",
        "<br>\n",
        "<img src=\"https://thescinder.files.wordpress.com/2017/06/goingtoneedagpuimgflip1.jpg\" alt=\"meme\" width=\"500px\"/>\n",
        "<br>\n",
        "<img src=\"https://i.pinimg.com/originals/5a/cf/c2/5acfc296101e82b8dca3031fb3512121.png\" alt=\"meme\" width=\"500px\"/>\n",
        "<br>\n",
        "<img src=\"https://twilio-cms-prod.s3.amazonaws.com/images/tfmlengineermeme.width-500.png\" alt=\"meme\" width=\"500px\"/>\n",
        "<br>\n",
        "<img src=\"https://images.ctfassets.net/be04ylp8y0qc/1AYDDqzqoLNU7GyvMOLlTL/146ab0e8b96a25c1b3538a2929dae646/meme_6cce0f3bba63820b84f52ce05a822975_800.png?fm=jpg\" alt=\"meme\" width=\"500px\"/>\n",
        "\n",
        "</center>"
      ]
    },
    {
      "cell_type": "markdown",
      "metadata": {
        "id": "Ooh3KTatYqgl"
      },
      "source": [
        "# Instructions\n",
        "In Problem Set 7 you had to implement neural networks from scratch. Now that you have a sense of what deep learning libraries do under the hood, you will implement convolutional neural networks (CNNs) using Keras. There might be some code provided for you here, and you will be required to write your implementations in places marked with __```#TODO: your code here```__. You may add helper functions if you feel you need to.  \n",
        "__Note:__ you are expected to use the publicly available documentation of the python packages we'll be using.\n",
        "\n",
        "__Analysis Questions:__ In addition to Python programming, each problem may contain some analysis questions. These are meant to ensure you understand your results, and will be manually graded on Gradescope.\n",
        "\n",
        "__Submission:__ download this notebook as a `.ipynb` file and submit it to Gradescope. This assignment will be completely manually graded, but still, make sure to follow instructions closely.  \n",
        "\n",
        "- Make sure your plots are visible when downloading the notebook, otherwise they won't appear on Gradescope. \n",
        "- Make sure your code cells are not throwing exceptions.\n",
        "- Please do not import any packages other than what has already been imported here. You may be penalized for doing so. However, feel free to import specific sub-modules from packages already loaded for your convenience.\n",
        "\n",
        "__THROUGHOUT THE NOTEBOOK: WHEN APPROPRIATE MAKE SURE TO PRINT / PLOT YOUR RESULTS AND THAT THEY ARE VISIBLE ON GRADESCOPE OR YOU WILL LOSE CREDIT (WE WILL NOT RUN YOUR CODE).__"
      ]
    },
    {
      "cell_type": "markdown",
      "metadata": {
        "id": "-KBU60MFa84o"
      },
      "source": [
        "# __Part 1: Computer Audition__\n",
        "\n",
        "\"Computer audition (CA) or machine listening is general field of study of algorithms and systems for audio understanding by [a] machine\" (from Wikipedia).\n",
        "In this part of the assignmnet you will implement a CNN in Keras to tackle a supervised classification task. Specifically, you will build a speech recognition network. A high-level diagram is displayed below.\n",
        "<center>\n",
        "<img src=\"https://drive.google.com/thumbnail?id=19RSc579LA7jefQmSw1qpdMJkDSywHAm6&sz=w1000\" alt=\"block_cnn\"/>\n",
        "<i>Figure 1: High-level block diagram for part 1.</i>\n",
        "</center>"
      ]
    },
    {
      "cell_type": "markdown",
      "metadata": {
        "id": "Ty4jZ23sPvVA"
      },
      "source": [
        "## Getting Started with Audio\n",
        "\n",
        "You might be wondering what the heck these orange/purplish heat maps are and what they have to do with audio. The answer is spectrograms and proven representation. When audio is recorded, physical sound waves (e.g. air being compressed and decompressed in a fraction of a second) are first converted into analog information, which in turn gets converted into digital sound waves, a.k.a. raw audio data which looks like this -  \n",
        "<center>\n",
        "<img src=\"https://drive.google.com/thumbnail?id=1erxL8OMi2pzYblMafPc2lgG_0JP5NeMi&sz=w300\" alt=\"wave\"/>\n",
        "<br>\n",
        "<i>Figure 2: An audio wave.</i>\n",
        "</center>\n",
        "\n",
        "This is just a long sequence of amplitude values, e.g. $[-0.67, -0.15, 0, 0.53, 0.86, ...]$. The number of amplitude values captured per second is called the ___sample rate___. The number of bits used to describe each sample (each value) is called the ___bit depth___. The higher the sample rate, the more frequencies we can capture; the higher the bit depth, the more volume levels we can capture.  \n",
        "  \n",
        "However, there are other ways to represent sound.\n",
        "While raw audio is a time-domain representation, __spectrograms__ are a time-frequency representation, with the x-axis representing time and the y-axis representing frequency. The color represents the magnitude. Usually, the brighter the color, the louder the frequency. Note: they are presented with color, but this is simply to make for a more intelligible image, spectrograms are usually analyzed as a 2D array, which is essentially a grayscale image. \n",
        "\n",
        "\n",
        "\n",
        "<center>\n",
        "<img src=\"https://drive.google.com/thumbnail?id=122TlTGZ04PcNCwggGcwfcMSt8Z7x_jLP&sz=w600\" alt=\"wave\"/>\n",
        "<br>\n",
        "<i>Figure 3: Spectrograms of the words \"hot\", \"hat\", \"hit\" & \"head\" spoken once with a high-pitched voice (top), and then again with a lower pitched voice (bottom). Taken from <a href=\"https://auditoryneuroscience.com/vocalizations-speech/formants-harmonics\">auditoryneuroscience.com</a>.</i>\n",
        "</center>\n",
        "\n",
        "Spectrograms are often used for computer audition tasks as they generally offer a more effective representation. They make it easier for the model by essentially performing feature extraction, pulling out high level information. This information can then be used by CNNs, which perform well on image data.\n",
        "\n",
        "Spectrograms are commonly generated by applying a transformation called \"Discrete Fourier Transform\" (DFT) to fixed-sized portions of the audio data. From Wikipedia: \"Digitally sampled data, in the time domain, is broken up into chunks, which usually overlap, and Fourier transformed to calculate the magnitude of the frequency spectrum for each chunk. Each chunk then corresponds to a vertical line in the image; a measurement of magnitude versus frequency for a specific moment in time (the midpoint of the chunk). These spectrums or time plots are then 'laid side by side' to form the image.\" \n",
        "\n",
        "A __Short-time Fourier Transform__ (STFT) does just that, it applies a DFT to a fixed-size segment/window of the audio data, and slides that window along the data, such that we can see how the frequncy information changes over time. The entries of the 2D array generated by the STFT are actually complex numbers. The magnitude (or absolute value) of the STFT is called ___spectrogram___. You can play with [_this cool interactive visualization_](https://musiclab.chromeexperiments.com/Spectrogram/) to better understand spectrograms of different sounds."
      ]
    },
    {
      "cell_type": "markdown",
      "metadata": {
        "id": "uuV9cWH5II48"
      },
      "source": [
        "## Import Needed Packages\n",
        "\n",
        "We'll be using Colab's GPU for this one, so navigate to `Runtime>Change runtime type` and make sure you have GPU selected. Then, run the cell below to import the packages we'll be using."
      ]
    },
    {
      "cell_type": "code",
      "metadata": {
        "id": "nbn0hQp9IQlY"
      },
      "source": [
        "###########################\n",
        "# DO NOT MODIFY THIS CELL #\n",
        "###########################\n",
        "\n",
        "!pip -q install librosa  # installing librosa\n",
        "!pip3 -q install pydub\n",
        "\n",
        "import numpy as np\n",
        "import tensorflow as tf\n",
        "import tensorflow_datasets as tfds\n",
        "import librosa, librosa.display  # python package for audio/music analysis\n",
        "import matplotlib.pyplot as plt\n",
        "import sklearn\n",
        "import sys, os\n",
        "from IPython.display import Audio\n",
        "from IPython import display"
      ],
      "execution_count": null,
      "outputs": []
    },
    {
      "cell_type": "markdown",
      "metadata": {
        "id": "9ahz-INdVkKN"
      },
      "source": [
        "## Obtaining the Dataset\n",
        "\n",
        "We will use one of TensorFlow's publicly available datasets for audio processing: \"Speech Commands: A Dataset for Limited-Vocabulary Speech Recognition.\" It contains one-second (or less) audio clips with the following contents: silence, an unknown word, \"yes\", \"no\", \"up\", \"down\", \"left\", \"right\", \"on\", \"off\", \"stop\", or \"go\". Thanks to the `tensorflow_datasets` package, we can download it with a single line of code. This dataset is over 8 GB so it'll take a while (took me around 15 minutes).\n",
        "\n",
        "__Note:__ `tfds.load()` returns a `tf.data.Dataset` object, which is an abstraction over a dataset, and allows iteration to happen in a streaming fashion, so the full dataset does not need to fit into memory.\n",
        "\n",
        "__Another Note__: once you've downloaded the data, re-running this cell won't re-download the dataset, it will simply use the downloaded data to re-populate the variables, which may come in handy. "
      ]
    },
    {
      "cell_type": "code",
      "metadata": {
        "id": "HoIl0kh6NYS_",
        "colab": {
          "base_uri": "https://localhost:8080/",
          "height": 1000,
          "referenced_widgets": [
            "6a6d990458a24c3b9bcdc78f87c55393",
            "846f40cbfdac40a58685d59c85d54807",
            "d7f389bdadbb4890be97de7385b56729",
            "7730c7f0ab414cf0a46e51529c85b1e8",
            "cb3dd0b78ccb4aecacd0695c6dc8c8f5",
            "5d6bf2252a9440ce8b055a499725c0cb",
            "eed981092abc421bbdd0fff3699aeebe",
            "eabb02b9f8e042478d61c9f4f52d9d9e",
            "be266abc16104f8489b35dbd575afa81",
            "c82f57557b7e4f1a99520e57d0506e07",
            "eff5426918e242fab328182ef157e0dd",
            "da87fdcdc7cf4232841de02900393b66",
            "baadc87c0f5c4ba095bebb30eb0f0b2d",
            "485bee63b6a947789336396975e47272",
            "90d841b31c7e4078bc3b906d106a9a50",
            "728607719dce4a6f95ad9c788baa49e7",
            "fa1f205f93494670b606c703a7a0bd35",
            "f9456a3bf1a7452ab8a221501a5866a6",
            "ce2c46ab786d411fb8d0ed7b21a49088",
            "dccc27c51ded424a9b2eedf8eb5a13bc",
            "c99f4963a935434f9cfba1861d81638e",
            "b23bc3815742402f94329f3889eeac56",
            "fd605b992f7c4174b30e0f509cf8cc5e",
            "ddb640ea530642cba7220b021c30952d",
            "d758b33638ac4c718b1eb2986403b1fa",
            "53588f352f684127ae048dcba78feb8a",
            "74c47cb1e9894b8bb5d0afb8b65d4de9",
            "6dcc9c8e5d5c4b77bbf43cfd223ab2f8",
            "322da41fccfa469b8cd963f28951c562",
            "1b4a233853a74757a900fcde028c88ae",
            "9c8ea0293305431a81ee07b12389de90",
            "5a29c32ec0ba4e4ba1b0ecf7bb95aaf8",
            "51988ec3cb9a4f378443807ce28093a5",
            "8e91f8a008844204b339cd2c0c6b36a3",
            "70ecf8c34ba04351be610edac26469c3",
            "df86dba02a62438eac18ff5117aef36e",
            "50557be8f0ac4d04a624c1962cf6e801",
            "a019a0e629954f59984b86c462bf0f10",
            "7a2feb3d36e04a15b0500e8b6450423d",
            "cb130736e38b4ca4bc2836650e198785",
            "1c9c93013da049de91b31a2aeb99b924",
            "fc3a1b64fc974c52a3eeac45146c6e64",
            "8c4d826a4d1242e2bb45cb47f44ccc6f",
            "c90e658c7e734eed9032d7c0e55f25d3",
            "9cf638aaea7c47f18cea575e721f36a1",
            "6ad1e0a7891e4ae6a7b7b59ce5df04ed",
            "e73c68144ae6458ebf32b2cfb272011f",
            "2fa36becb4694382b2b245336d147bc6",
            "bd830c6945b14d6e80177c16c6304a09",
            "c78ad2cb6450457580c0e32518f6a3de",
            "8934ebd96b4e40ce99729b3db66a91ab",
            "dc05f851999449069b1b7754b480b408",
            "fe598f14f6f0451a8b219500d872941a",
            "87eb47b6eba04b1f8199c1f2bc28fc20",
            "60601fb813c64f7c950babfb2aa4eb46",
            "475109062de64e41acbd8167c89cd404",
            "844ab00b0aff4f198f0017b817028dbc",
            "4be3dae3893a46b187abc1d3d3d213be",
            "37fd3cb854d04ad2b12342e84a5bca1b",
            "41af5fbb7e40488b90c206a1da11dbeb",
            "39c4e32a70844233aa3cb028e95e3f53",
            "4a87c3f119f04c2f817edaf116c6fe93",
            "48f83f305bc54d40b7badcc03d1da780",
            "d0da5f1bbf1048699447a315faf01dc4"
          ]
        },
        "outputId": "d66c13d8-34c5-4df4-bb75-1502cf3a754d"
      },
      "source": [
        "###########################\n",
        "# DO NOT MODIFY THIS CELL #\n",
        "###########################\n",
        "\n",
        "ds, ds_info = tfds.load('speech_commands', split=['train', 'validation', 'test'],\n",
        "                        as_supervised=True, with_info=True)  # download the data\n",
        "train_set, valid_set, test_set = ds  # get train-validation-test split\n",
        "ds_info  # display dataset info\n"
      ],
      "execution_count": null,
      "outputs": [
        {
          "output_type": "stream",
          "text": [
            "\u001b[1mDownloading and preparing dataset speech_commands/0.0.2 (download: 2.37 GiB, generated: 8.17 GiB, total: 10.53 GiB) to /root/tensorflow_datasets/speech_commands/0.0.2...\u001b[0m\n"
          ],
          "name": "stdout"
        },
        {
          "output_type": "display_data",
          "data": {
            "application/vnd.jupyter.widget-view+json": {
              "model_id": "6a6d990458a24c3b9bcdc78f87c55393",
              "version_minor": 0,
              "version_major": 2
            },
            "text/plain": [
              "HBox(children=(FloatProgress(value=1.0, bar_style='info', description='Dl Completed...', max=1.0, style=Progre…"
            ]
          },
          "metadata": {
            "tags": []
          }
        },
        {
          "output_type": "display_data",
          "data": {
            "application/vnd.jupyter.widget-view+json": {
              "model_id": "be266abc16104f8489b35dbd575afa81",
              "version_minor": 0,
              "version_major": 2
            },
            "text/plain": [
              "HBox(children=(FloatProgress(value=1.0, bar_style='info', description='Dl Size...', max=1.0, style=ProgressSty…"
            ]
          },
          "metadata": {
            "tags": []
          }
        },
        {
          "output_type": "stream",
          "text": [
            "\n",
            "\n",
            "\n",
            "\n"
          ],
          "name": "stdout"
        },
        {
          "output_type": "display_data",
          "data": {
            "application/vnd.jupyter.widget-view+json": {
              "model_id": "fa1f205f93494670b606c703a7a0bd35",
              "version_minor": 0,
              "version_major": 2
            },
            "text/plain": [
              "HBox(children=(FloatProgress(value=1.0, bar_style='info', max=1.0), HTML(value='')))"
            ]
          },
          "metadata": {
            "tags": []
          }
        },
        {
          "output_type": "stream",
          "text": [
            "\rShuffling and writing examples to /root/tensorflow_datasets/speech_commands/0.0.2.incompleteX0UHOL/speech_commands-train.tfrecord\n"
          ],
          "name": "stdout"
        },
        {
          "output_type": "display_data",
          "data": {
            "application/vnd.jupyter.widget-view+json": {
              "model_id": "d758b33638ac4c718b1eb2986403b1fa",
              "version_minor": 0,
              "version_major": 2
            },
            "text/plain": [
              "HBox(children=(FloatProgress(value=0.0, max=85511.0), HTML(value='')))"
            ]
          },
          "metadata": {
            "tags": []
          }
        },
        {
          "output_type": "display_data",
          "data": {
            "application/vnd.jupyter.widget-view+json": {
              "model_id": "51988ec3cb9a4f378443807ce28093a5",
              "version_minor": 0,
              "version_major": 2
            },
            "text/plain": [
              "HBox(children=(FloatProgress(value=1.0, bar_style='info', max=1.0), HTML(value='')))"
            ]
          },
          "metadata": {
            "tags": []
          }
        },
        {
          "output_type": "stream",
          "text": [
            "Shuffling and writing examples to /root/tensorflow_datasets/speech_commands/0.0.2.incompleteX0UHOL/speech_commands-validation.tfrecord\n"
          ],
          "name": "stdout"
        },
        {
          "output_type": "display_data",
          "data": {
            "application/vnd.jupyter.widget-view+json": {
              "model_id": "1c9c93013da049de91b31a2aeb99b924",
              "version_minor": 0,
              "version_major": 2
            },
            "text/plain": [
              "HBox(children=(FloatProgress(value=0.0, max=10102.0), HTML(value='')))"
            ]
          },
          "metadata": {
            "tags": []
          }
        },
        {
          "output_type": "display_data",
          "data": {
            "application/vnd.jupyter.widget-view+json": {
              "model_id": "bd830c6945b14d6e80177c16c6304a09",
              "version_minor": 0,
              "version_major": 2
            },
            "text/plain": [
              "HBox(children=(FloatProgress(value=1.0, bar_style='info', max=1.0), HTML(value='')))"
            ]
          },
          "metadata": {
            "tags": []
          }
        },
        {
          "output_type": "stream",
          "text": [
            "Shuffling and writing examples to /root/tensorflow_datasets/speech_commands/0.0.2.incompleteX0UHOL/speech_commands-test.tfrecord\n"
          ],
          "name": "stdout"
        },
        {
          "output_type": "display_data",
          "data": {
            "application/vnd.jupyter.widget-view+json": {
              "model_id": "844ab00b0aff4f198f0017b817028dbc",
              "version_minor": 0,
              "version_major": 2
            },
            "text/plain": [
              "HBox(children=(FloatProgress(value=0.0, max=4890.0), HTML(value='')))"
            ]
          },
          "metadata": {
            "tags": []
          }
        },
        {
          "output_type": "stream",
          "text": [
            "\u001b[1mDataset speech_commands downloaded and prepared to /root/tensorflow_datasets/speech_commands/0.0.2. Subsequent calls will reuse this data.\u001b[0m\n"
          ],
          "name": "stdout"
        },
        {
          "output_type": "execute_result",
          "data": {
            "text/plain": [
              "tfds.core.DatasetInfo(\n",
              "    name='speech_commands',\n",
              "    version=0.0.2,\n",
              "    description='An audio dataset of spoken words designed to help train and evaluate keyword\n",
              "spotting systems. Its primary goal is to provide a way to build and test small\n",
              "models that detect when a single word is spoken, from a set of ten target words,\n",
              "with as few false positives as possible from background noise or unrelated\n",
              "speech. Note that in the train and validation set, the label \"unknown\" is much\n",
              "more prevalent than the labels of the target words or background noise.\n",
              "One difference from the release version is the handling of silent segments.\n",
              "While in the test set the silence segments are regular 1 second files, in the\n",
              "training they are provided as long segments under \"background_noise\" folder.\n",
              "Here we split these background noise into 1 second clips, and also keep one of\n",
              "the files for the validation set.',\n",
              "    homepage='https://arxiv.org/abs/1804.03209',\n",
              "    features=FeaturesDict({\n",
              "        'audio': Audio(shape=(None,), dtype=tf.int64),\n",
              "        'label': ClassLabel(shape=(), dtype=tf.int64, num_classes=12),\n",
              "    }),\n",
              "    total_num_examples=100503,\n",
              "    splits={\n",
              "        'test': 4890,\n",
              "        'train': 85511,\n",
              "        'validation': 10102,\n",
              "    },\n",
              "    supervised_keys=('audio', 'label'),\n",
              "    citation=\"\"\"@article{speechcommandsv2,\n",
              "       author = {{Warden}, P.},\n",
              "        title = \"{Speech Commands: A Dataset for Limited-Vocabulary Speech Recognition}\",\n",
              "      journal = {ArXiv e-prints},\n",
              "      archivePrefix = \"arXiv\",\n",
              "      eprint = {1804.03209},\n",
              "      primaryClass = \"cs.CL\",\n",
              "      keywords = {Computer Science - Computation and Language, Computer Science - Human-Computer Interaction},\n",
              "        year = 2018,\n",
              "        month = apr,\n",
              "        url = {https://arxiv.org/abs/1804.03209},\n",
              "    }\"\"\",\n",
              "    redistribution_info=,\n",
              ")"
            ]
          },
          "metadata": {
            "tags": []
          },
          "execution_count": 3
        }
      ]
    },
    {
      "cell_type": "markdown",
      "metadata": {
        "id": "7C5TWmCzRWqc"
      },
      "source": [
        "Let's listen to a few files from the dataset. Using the **Audio(filename)** function from IPython notebook, you can listen to an audio file directly in Colab. Bear in mind that the sample rate of the audio recordings is 16 kHz."
      ]
    },
    {
      "cell_type": "code",
      "metadata": {
        "id": "caAt-mBVXGOG",
        "colab": {
          "base_uri": "https://localhost:8080/",
          "height": 242
        },
        "outputId": "99302cb6-0fd4-46b3-b1ef-2d0ca3c038df"
      },
      "source": [
        "sr = 16000  # sample rate\n",
        "example = train_set.take(3)  # example is (audio, label)\n",
        "\n",
        "for signal, label in tfds.as_numpy(example):\n",
        "  print('signal = ', signal, '; label =', label)\n",
        "  display.display(Audio(signal, rate=sr))"
      ],
      "execution_count": null,
      "outputs": [
        {
          "output_type": "stream",
          "text": [
            "signal =  [-15 -18 -12 ...  16  21  25] ; label = 4\n"
          ],
          "name": "stdout"
        },
        {
          "output_type": "display_data",
          "data": {
            "text/html": [
              "\n",
              "                <audio controls=\"controls\" >\n",
              "                    <source src=\"data:audio/wav;base64,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\" type=\"audio/wav\" />\n",
              "                    Your browser does not support the audio element.\n",
              "                </audio>\n",
              "              "
            ],
            "text/plain": [
              "<IPython.lib.display.Audio object>"
            ]
          },
          "metadata": {
            "tags": []
          }
        },
        {
          "output_type": "stream",
          "text": [
            "signal =  [  75   29  -85 ... -343  304  879] ; label = 5\n"
          ],
          "name": "stdout"
        },
        {
          "output_type": "display_data",
          "data": {
            "text/html": [
              "\n",
              "                <audio controls=\"controls\" >\n",
              "                    <source src=\"data:audio/wav;base64,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\" type=\"audio/wav\" />\n",
              "                    Your browser does not support the audio element.\n",
              "                </audio>\n",
              "              "
            ],
            "text/plain": [
              "<IPython.lib.display.Audio object>"
            ]
          },
          "metadata": {
            "tags": []
          }
        },
        {
          "output_type": "stream",
          "text": [
            "signal =  [0 0 2 ... 2 1 1] ; label = 7\n"
          ],
          "name": "stdout"
        },
        {
          "output_type": "display_data",
          "data": {
            "text/html": [
              "\n",
              "                <audio controls=\"controls\" >\n",
              "                    <source src=\"data:audio/wav;base64,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\" type=\"audio/wav\" />\n",
              "                    Your browser does not support the audio element.\n",
              "                </audio>\n",
              "              "
            ],
            "text/plain": [
              "<IPython.lib.display.Audio object>"
            ]
          },
          "metadata": {
            "tags": []
          }
        }
      ]
    },
    {
      "cell_type": "markdown",
      "metadata": {
        "id": "t90PkuVFeDpq"
      },
      "source": [
        "## Problem 1: Visualization (10 Points)\n",
        "\n",
        "Now that we have our data, let's visualize and listen to one of the recordings."
      ]
    },
    {
      "cell_type": "markdown",
      "metadata": {
        "id": "Xpn7RzNUwlNw"
      },
      "source": [
        "### 1.1 Waveform (4 Points)\n",
        "Plot one of the recordings' waveform with the title \"Waveform\" using the `librosa` package. Label the x-axis \"Time (s)\" and the y-axis \"Amplitude\". Display audio controls below so you could listen to the recording. Here is a link to the [official `librosa` documentation](https://librosa.org/doc/latest/index.html)."
      ]
    },
    {
      "cell_type": "code",
      "metadata": {
        "id": "DofFJvuBeC37",
        "colab": {
          "base_uri": "https://localhost:8080/",
          "height": 353
        },
        "outputId": "4d59494a-9c2a-46e1-8bdc-24b8aa36eae7"
      },
      "source": [
        "# TODO: your code here\n",
        "for signal, label in tfds.as_numpy(train_set.take(1)):\n",
        "  plt.subplot(1, 1, 1)\n",
        "  librosa.display.waveplot(signal.astype(np.float), sr=sr)\n",
        "  plt.title('Waveform')\n",
        "  plt.ylabel('Amplitude')\n",
        "  plt.xlabel('Time (s)')\n",
        "\n",
        "display.display(Audio(signal, rate=sr))"
      ],
      "execution_count": null,
      "outputs": [
        {
          "output_type": "display_data",
          "data": {
            "text/html": [
              "\n",
              "                <audio controls=\"controls\" >\n",
              "                    <source src=\"data:audio/wav;base64,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\" type=\"audio/wav\" />\n",
              "                    Your browser does not support the audio element.\n",
              "                </audio>\n",
              "              "
            ],
            "text/plain": [
              "<IPython.lib.display.Audio object>"
            ]
          },
          "metadata": {
            "tags": []
          }
        },
        {
          "output_type": "display_data",
          "data": {
            "image/png": "[encoded data removed]",
            "text/plain": [
              "<Figure size 432x288 with 1 Axes>"
            ]
          },
          "metadata": {
            "tags": [],
            "needs_background": "light"
          }
        }
      ]
    },
    {
      "cell_type": "markdown",
      "metadata": {
        "id": "6PCt7w3lkN4R"
      },
      "source": [
        "### 1.2 Spectrogram (3 Points)\n",
        "Next, Let's plot the spectrogram of the same signal by applying the STFT using the librosa package and taking the absolute value of the result. Use matplotlib's `pcolormesh` function, you don't need to add labels here."
      ]
    },
    {
      "cell_type": "code",
      "metadata": {
        "id": "VWB1K8lnesxv",
        "colab": {
          "base_uri": "https://localhost:8080/",
          "height": 265
        },
        "outputId": "946f97a9-62a4-4699-fad7-63a4b01e68a5"
      },
      "source": [
        "# TODO: your code here\n",
        "for signal, label in tfds.as_numpy(example):\n",
        "  #librosa.display.waveplot(signal.astype(np.float))\n",
        "  plt.subplot(1, 1, 1)\n",
        "  stft = librosa.core.stft(signal.astype(np.float))\n",
        "  stft = np.abs(stft)\n",
        "  plt.pcolormesh(stft)\n",
        "  break;"
      ],
      "execution_count": null,
      "outputs": [
        {
          "output_type": "display_data",
          "data": {
            "image/png": "[encoded data removed]",
            "text/plain": [
              "<Figure size 432x288 with 1 Axes>"
            ]
          },
          "metadata": {
            "tags": [],
            "needs_background": "light"
          }
        }
      ]
    },
    {
      "cell_type": "markdown",
      "metadata": {
        "id": "zdEhkik9nI5f"
      },
      "source": [
        "### 1.3 Better Spectrogram (3 Points)\n",
        "A little hard to notice the data right? let's scale the data and make the visualization more intelligible. Use librosa's amplitude to dB convertion function. Then, use Librosa's `specshow` function to display the spectrogram, label the x-axis \"Time\" and the y-axis \"Hz\". Lastly, add a dB colorbar and give the plot the title \"Spectrogram\"."
      ]
    },
    {
      "cell_type": "code",
      "metadata": {
        "id": "fsMQN4eroHE6",
        "colab": {
          "base_uri": "https://localhost:8080/",
          "height": 278
        },
        "outputId": "41f191ba-efca-4687-f250-95d95556c63a"
      },
      "source": [
        "# TODO: your code here\n",
        "for signal, label in tfds.as_numpy(example):\n",
        "  plt.subplot(1, 1, 1)\n",
        "  stft = librosa.core.stft(signal.astype(np.float))\n",
        "  stft = np.abs(stft)\n",
        "  amp_to_db = librosa.core.amplitude_to_db(stft)\n",
        "  librosa.display.specshow(amp_to_db)\n",
        "  plt.title('Spectrogram')\n",
        "  plt.ylabel('Hz')\n",
        "  plt.xlabel('Time')\n",
        "  plt.colorbar()\n",
        "  break;"
      ],
      "execution_count": null,
      "outputs": [
        {
          "output_type": "display_data",
          "data": {
            "image/png": "[encoded data removed]",
            "text/plain": [
              "<Figure size 432x288 with 2 Axes>"
            ]
          },
          "metadata": {
            "tags": [],
            "needs_background": "light"
          }
        }
      ]
    },
    {
      "cell_type": "markdown",
      "metadata": {
        "id": "iGlH4_vyT_u5"
      },
      "source": [
        "## Problem 2: Preprocessing (10 Points)\n",
        "\n",
        "Before we build our network, we need to perform some preprocessing to create a spectrogram dataset. An alternative you might see in practice is to make the input transformation a part of the network (either as a trainable or non-trainable layer), which would allow you to modify the transformation without having to process the dataset every time."
      ]
    },
    {
      "cell_type": "markdown",
      "metadata": {
        "id": "Z1U0a1cQUWce"
      },
      "source": [
        "### 2.1 Filtering (3 Points)\n",
        "\n",
        "Our model will be receiving fixed-sized inputs, so to keep things simple, we will simply filter out any recording which is not exactly 16,000 samples (equivalent to 1-second with a 16-kHz sample rate). Use TensorFlow's Dataset API. Do this to all sets (train, valid, and test)."
      ]
    },
    {
      "cell_type": "code",
      "metadata": {
        "id": "GeeEVU5QVQiL"
      },
      "source": [
        "# filter the data to ensure consistent shape (removes ~8,000 samples)\n",
        "train_set = train_set.filter(lambda x,y: len(x) == 16000)\n",
        "valid_set = valid_set.filter(lambda x,y: len(x) == 16000)\n",
        "test_set = test_set.filter(lambda x,y: len(x) == 16000)\n",
        "\n"
      ],
      "execution_count": null,
      "outputs": []
    },
    {
      "cell_type": "markdown",
      "metadata": {
        "id": "mZdDEKPaVjjQ"
      },
      "source": [
        "### 2.2 Transformation (4 Points)\n",
        "\n",
        "Our model will be receiving spectrograms. Use TensorFlow's Dataset API, signal module, and other TensorFlow functions to transform the data into magnitue spectrograms. In particular, use a decibel-scaled spectrogram with 512 for your number of fast-fourier transforms (frame length) and a hop length (frame step) of 160. Implement `get_db_spec()` which receives a signal as input and returns the decibel-scaled spectrogram as output. Then, outside the function, transform the data using the function.  Do this to all sets (train, valid, and test). Use the power_to_db helper function (notice its docstring)."
      ]
    },
    {
      "cell_type": "code",
      "metadata": {
        "id": "PzZQ_0W8YGmM"
      },
      "source": [
        "frame_length = 512\n",
        "frame_step = 160\n",
        "\n",
        "def power_to_db(S, amin=1e-16, top_db=80.0):\n",
        "    \"\"\"Convert a power-spectrogram (magnitude squared) to decibel (dB) units.\n",
        "    Computes the scaling ``10 * log10(S / max(S))`` in a numerically\n",
        "    stable way. Based on:\n",
        "    https://librosa.org/doc/latest/generated/librosa.power_to_db.html\n",
        "    \"\"\"\n",
        "    def _tf_log10(x):\n",
        "        numerator = tf.math.log(x)\n",
        "        denominator = tf.math.log(tf.constant(10, dtype=numerator.dtype))\n",
        "        return numerator / denominator\n",
        "    \n",
        "    # Scale magnitude relative to maximum value in S. Zeros in the output \n",
        "    # correspond to positions where S == ref.\n",
        "    ref = tf.reduce_max(S)\n",
        "\n",
        "    log_spec = 10.0 * _tf_log10(tf.maximum(amin, S))\n",
        "    log_spec -= 10.0 * _tf_log10(tf.maximum(amin, ref))\n",
        "    log_spec = tf.maximum(log_spec, tf.reduce_max(log_spec) - top_db)\n",
        "\n",
        "    return log_spec\n",
        "\n",
        "def get_db_spec(sig):\n",
        "  stft_x = tf.signal.stft(sig, frame_length=frame_length, frame_step=frame_step)\n",
        "  x = power_to_db(tf.math.pow(tf.math.abs(stft_x),2))\n",
        "  x = tf.transpose(x)\n",
        "  return x\n",
        "\n",
        "test_set = test_set.map(lambda x,y: (get_db_spec(tf.dtypes.cast(x, tf.float32)),y))\n",
        "valid_set = valid_set.map(lambda x,y: (get_db_spec(tf.dtypes.cast(x, tf.float32)),y))\n",
        "train_set = train_set.map(lambda x,y: (get_db_spec(tf.dtypes.cast(x, tf.float32)),y))"
      ],
      "execution_count": null,
      "outputs": []
    },
    {
      "cell_type": "markdown",
      "metadata": {
        "id": "7ns6rlrB5zUt"
      },
      "source": [
        "### 2.3 Normalization (3 Points)\n",
        "\n",
        "There are different ways to normalize data. For simplicity, let's perform per-sample standardization. Implement the `normalize()` function which recieves a `tf.Tensor` tensor and returns a standardized value by subtracting the mean of the tensor and divinding by the standard deviation plus some tiny value to avoid dividing by zero (use `TensorFlow` functions here). Then, apply it to the 3 subsets of the dataset (train, valid, and test).\n"
      ]
    },
    {
      "cell_type": "code",
      "metadata": {
        "id": "a2cQVFbX6r4W"
      },
      "source": [
        "def normalize(x, epsilon=1e-10):\n",
        "  m = tf.math.reduce_mean(x)\n",
        "  sd = tf.math.reduce_std(x)\n",
        "  return (x - m)/(sd + epsilon)\n",
        "\n",
        "test_set = test_set.map(lambda x,y: (normalize(tf.dtypes.cast(x, tf.float32)),y))\n",
        "valid_set = valid_set.map(lambda x,y: (normalize(tf.dtypes.cast(x, tf.float32)),y))\n",
        "train_set = train_set.map(lambda x,y: (normalize(tf.dtypes.cast(x, tf.float32)),y))"
      ],
      "execution_count": null,
      "outputs": []
    },
    {
      "cell_type": "markdown",
      "metadata": {
        "id": "Wk71bbTleP-3"
      },
      "source": [
        "## Problem 3: Architecture (15 Points)\n",
        "\n",
        "Now we're ready to build our CNN model. You'll be implementing the model shown below. Use `tensorflow.keras` (either the sequential API or functional API) to implement and return the model inside the `my_cnn` function. \n",
        "\n",
        "Notice that the leftmost block is the reshaped input of shape 257x97x1 (CNN implementations usually require a 3rd dimension because of potential color channels). The convolutional layers are followed by batch normalization layers, which are followed by ReLU activations. Padding is always used such that all pixels are considered during the convolution _and_ pooling processes. Lastly, the output layer is a dense layer with a softmax activation. \n",
        "\n",
        "Don't forget to compile the model before returning it. Use the `adam` optimizer and for the loss function use sparse categorical crossentropy, the sparse part is to tell the model that our targets are __not__ one-hot encoded. Be sure to run the cell to see the model summary.\n",
        "\n",
        "<center>\n",
        "<img src=\"https://drive.google.com/thumbnail?id=1bAtVD-ffxyVi91kzfghXk3P0_rTDlCxf&sz=w3800\" alt=\"cnn_diagram\"/>\n",
        "<i>Figure 4: Diagram of a deep convolutional neural network for you to implement.</i>\n",
        "</center>"
      ]
    },
    {
      "cell_type": "code",
      "metadata": {
        "id": "xDe_0UEX6lPQ",
        "colab": {
          "base_uri": "https://localhost:8080/"
        },
        "outputId": "d2048571-a7f5-4ae7-fb3d-0dcb00199bab"
      },
      "source": [
        "from tensorflow.keras import models\n",
        "from tensorflow.keras.layers import Conv2D,BatchNormalization,Activation,MaxPooling2D,GlobalMaxPooling2D,Dropout,Dense,Reshape\n",
        "\n",
        "# set random seeds for reproducibility\n",
        "np.random.seed(42)\n",
        "from tensorflow.random import set_seed\n",
        "set_seed(42)\n",
        "from tensorflow.keras import layers, models\n",
        "\n",
        "\n",
        "input_shape = (257, 97)\n",
        "        \n",
        "def my_cnn(n_classes=12):\n",
        "  model = models.Sequential()\n",
        "\n",
        "  # Reshape\n",
        "  model.add(Reshape([257,97,1], input_shape=input_shape))\n",
        "\n",
        "  # 1st Convolution Layer (with Batch Normalization and Relu Activation)\n",
        "  model.add(Conv2D(filters=12,kernel_size=3,padding=\"same\",data_format='channels_last'))\n",
        "  model.add(BatchNormalization())\n",
        "  model.add(Activation(\"relu\"))\n",
        "\n",
        "  # 1st Max Pooling\n",
        "  model.add(MaxPooling2D(strides=2, padding=\"same\", pool_size=3,data_format='channels_last'))\n",
        "\n",
        "  # 2nd Convolution Layer (with Batch Normalization and Relu Activation)\n",
        "  model.add(Conv2D(24,3, padding=\"same\",data_format='channels_last'))\n",
        "  model.add(BatchNormalization())\n",
        "  model.add(Activation(\"relu\"))\n",
        "\n",
        "  # 2nd Max Pooling\n",
        "  model.add(MaxPooling2D(strides=2, padding=\"same\", pool_size=3,data_format='channels_last'))\n",
        "\n",
        "  # 3rd Convolution Layer (with Batch Normalization and Relu Activation)\n",
        "  model.add(Conv2D(48,3, padding=\"same\",data_format='channels_last'))\n",
        "  model.add(BatchNormalization())\n",
        "  model.add(Activation(\"relu\"))\n",
        "\n",
        "  # 3rd Max Pooling\n",
        "  model.add(MaxPooling2D(strides=2, padding=\"same\", pool_size=3,data_format='channels_last'))\n",
        "\n",
        "  # 4th Convolution Layer (with Batch Normalization and Relu Activation)\n",
        "  model.add(Conv2D(48,3, padding=\"same\",data_format='channels_last'))\n",
        "  model.add(BatchNormalization())\n",
        "  model.add(Activation(\"relu\"))\n",
        "\n",
        "  # 5th Convolution Layer (with Batch Normalization and Relu Activation)\n",
        "  model.add(Conv2D(48,3, padding=\"same\",data_format='channels_last'))\n",
        "  model.add(BatchNormalization())\n",
        "  model.add(Activation(\"relu\"))\n",
        "\n",
        "  # Global Max Pool\n",
        "  model.add(GlobalMaxPooling2D(data_format='channels_last'))\n",
        "\n",
        "  # Dropout\n",
        "  model.add(Dropout(0.2))\n",
        "\n",
        "  # Dense\n",
        "  model.add(Dense(n_classes))\n",
        "\n",
        "  # Dense Softmax output\n",
        "  model.add(Dense(n_classes, activation='softmax'))\n",
        "\n",
        "  # Optimizer w/ learning rate\n",
        "  opt = tf.keras.optimizers.Adam(learning_rate=0.002)\n",
        "\n",
        "  # Sparse Categorical Cross Entropy Loss\n",
        "  loss = tf.keras.losses.SparseCategoricalCrossentropy()\n",
        "\n",
        "  # Compile model with sparse_categorical_crossentropy loss\n",
        "  model.compile(\n",
        "      optimizer=opt,\n",
        "      loss=loss,\n",
        "      metrics=['accuracy'])\n",
        "  \n",
        "  # build model\n",
        "  model.build()\n",
        "\n",
        "  return model\n",
        "\n",
        "model = my_cnn()\n",
        "model.summary()"
      ],
      "execution_count": null,
      "outputs": [
        {
          "output_type": "stream",
          "text": [
            "Model: \"sequential_9\"\n",
            "_________________________________________________________________\n",
            "Layer (type)                 Output Shape              Param #   \n",
            "=================================================================\n",
            "reshape_9 (Reshape)          (None, 257, 97, 1)        0         \n",
            "_________________________________________________________________\n",
            "conv2d_41 (Conv2D)           (None, 257, 97, 12)       120       \n",
            "_________________________________________________________________\n",
            "batch_normalization_41 (Batc (None, 257, 97, 12)       48        \n",
            "_________________________________________________________________\n",
            "activation_41 (Activation)   (None, 257, 97, 12)       0         \n",
            "_________________________________________________________________\n",
            "max_pooling2d_24 (MaxPooling (None, 129, 49, 12)       0         \n",
            "_________________________________________________________________\n",
            "conv2d_42 (Conv2D)           (None, 129, 49, 24)       2616      \n",
            "_________________________________________________________________\n",
            "batch_normalization_42 (Batc (None, 129, 49, 24)       96        \n",
            "_________________________________________________________________\n",
            "activation_42 (Activation)   (None, 129, 49, 24)       0         \n",
            "_________________________________________________________________\n",
            "max_pooling2d_25 (MaxPooling (None, 65, 25, 24)        0         \n",
            "_________________________________________________________________\n",
            "conv2d_43 (Conv2D)           (None, 65, 25, 48)        10416     \n",
            "_________________________________________________________________\n",
            "batch_normalization_43 (Batc (None, 65, 25, 48)        192       \n",
            "_________________________________________________________________\n",
            "activation_43 (Activation)   (None, 65, 25, 48)        0         \n",
            "_________________________________________________________________\n",
            "max_pooling2d_26 (MaxPooling (None, 33, 13, 48)        0         \n",
            "_________________________________________________________________\n",
            "conv2d_44 (Conv2D)           (None, 33, 13, 48)        20784     \n",
            "_________________________________________________________________\n",
            "batch_normalization_44 (Batc (None, 33, 13, 48)        192       \n",
            "_________________________________________________________________\n",
            "activation_44 (Activation)   (None, 33, 13, 48)        0         \n",
            "_________________________________________________________________\n",
            "conv2d_45 (Conv2D)           (None, 33, 13, 48)        20784     \n",
            "_________________________________________________________________\n",
            "batch_normalization_45 (Batc (None, 33, 13, 48)        192       \n",
            "_________________________________________________________________\n",
            "activation_45 (Activation)   (None, 33, 13, 48)        0         \n",
            "_________________________________________________________________\n",
            "global_max_pooling2d_8 (Glob (None, 48)                0         \n",
            "_________________________________________________________________\n",
            "dropout_8 (Dropout)          (None, 48)                0         \n",
            "_________________________________________________________________\n",
            "dense_16 (Dense)             (None, 12)                588       \n",
            "_________________________________________________________________\n",
            "dense_17 (Dense)             (None, 12)                156       \n",
            "=================================================================\n",
            "Total params: 56,184\n",
            "Trainable params: 55,824\n",
            "Non-trainable params: 360\n",
            "_________________________________________________________________\n"
          ],
          "name": "stdout"
        }
      ]
    },
    {
      "cell_type": "markdown",
      "metadata": {
        "id": "oIy_me9h63Om"
      },
      "source": [
        "## Problem 4: Train & Test (25 Points)\n",
        "\n",
        "Let's train and test our model."
      ]
    },
    {
      "cell_type": "markdown",
      "metadata": {
        "id": "Nj9_2AC_9VDl"
      },
      "source": [
        "### 4.1 Training (10 Points)\n",
        "\n",
        "Using Colab's GPU, with batch size 128, each epoch took me ~5 minutes. I was able to reach 90% validation accuracy after a few epochs and 95% after a few more. Your resulting model must reach at least 95% to get full credit, or at least 90% for partial credit. \n",
        "\n",
        "Fit your network to the training data. As a tip, we suggest you checkpoint your model based on validation accuracy. Hint: you might not be able to pass the sets in their current form directly into the fit() function. Be sure to print the validation loss of your resulting model.\n",
        "Then, plot the history of the training process with a curve describing the train loss, a curve describing the validation loss, a title of \"History\", y-axis labeled \"Value\", x-axis labeled \"No. epoch\", and a legend to specify which curve is which."
      ]
    },
    {
      "cell_type": "code",
      "metadata": {
        "id": "cMZv4v9MhSKU",
        "colab": {
          "base_uri": "https://localhost:8080/",
          "height": 737
        },
        "outputId": "e99c1a2c-8ca7-4793-c1cb-f1ab3a16c00e"
      },
      "source": [
        "# set random seeds for reproducibility\n",
        "np.random.seed(42)\n",
        "from tensorflow.random import set_seed\n",
        "set_seed(42)\n",
        "from keras.callbacks import ModelCheckpoint\n",
        "\n",
        "# get model\n",
        "model = my_cnn(n_classes=12)\n",
        "\n",
        "# get data\n",
        "train_set, valid_set, test_set = ds\n",
        "\n",
        "# filter data\n",
        "train_set = train_set.filter(lambda x,y: len(x) == 16000)\n",
        "valid_set = valid_set.filter(lambda x,y: len(x) == 16000)\n",
        "test_set = test_set.filter(lambda x,y: len(x) == 16000)\n",
        "\n",
        "# transform data\n",
        "test_set = test_set.map(lambda x,y: (get_db_spec(tf.dtypes.cast(x, tf.float32)),y))\n",
        "valid_set = valid_set.map(lambda x,y: (get_db_spec(tf.dtypes.cast(x, tf.float32)),y))\n",
        "train_set = train_set.map(lambda x,y: (get_db_spec(tf.dtypes.cast(x, tf.float32)),y))\n",
        "\n",
        "\n",
        "# normalize data\n",
        "test_set = test_set.map(lambda x,y: (normalize(tf.dtypes.cast(x, tf.float32)),y))\n",
        "valid_set = valid_set.map(lambda x,y: (normalize(tf.dtypes.cast(x, tf.float32)),y))\n",
        "train_set = train_set.map(lambda x,y: (normalize(tf.dtypes.cast(x, tf.float32)),y))\n",
        "\n",
        "train_set = train_set.shuffle(3, reshuffle_each_iteration=True)\n",
        "#test_set = test_set.shuffle(3)\n",
        "\n",
        "train_set = train_set.batch(128)\n",
        "valid_set = valid_set.batch(128)\n",
        "test_set = test_set.batch(128)\n",
        "\n",
        "EPOCHS = 7\n",
        "\n",
        "checkpoint = tf.keras.callbacks.ModelCheckpoint(\n",
        "    filepath='tmp/checkpoint/m.ckpt',\n",
        "    monitor=\"val_accuracy\",\n",
        "    verbose=0,\n",
        "    save_best_only=True,\n",
        "    save_weights_only=False,\n",
        "    mode=\"auto\",\n",
        "    save_freq=\"epoch\"\n",
        ")\n",
        "\n",
        "history = model.fit(\n",
        "    train_set,\n",
        "    validation_data=valid_set,  \n",
        "    epochs=EPOCHS,\n",
        "    callbacks=[tf.keras.callbacks.EarlyStopping(verbose=1, patience=4), checkpoint]\n",
        ")\n",
        "\n",
        "plt.plot(history.history['loss'], label='train')\n",
        "plt.plot(history.history['val_loss'], label='valid')\n",
        "plt.ylabel('Value')\n",
        "plt.xlabel('No. Epoch')\n",
        "plt.title('History')\n",
        "plt.legend()\n",
        "plt.show()\n",
        "\n",
        "orig_model = model"
      ],
      "execution_count": null,
      "outputs": [
        {
          "output_type": "stream",
          "text": [
            "Epoch 1/7\n",
            "    602/Unknown - 464s 771ms/step - loss: 1.1910 - accuracy: 0.6746INFO:tensorflow:Assets written to: tmp/checkpoint/m.ckpt/assets\n"
          ],
          "name": "stdout"
        },
        {
          "output_type": "stream",
          "text": [
            "INFO:tensorflow:Assets written to: tmp/checkpoint/m.ckpt/assets\n"
          ],
          "name": "stderr"
        },
        {
          "output_type": "stream",
          "text": [
            "\b\b\b\b\b\b\b\b\b\b\b\b\b\b\b\b\b\b\b\b\b\b\b\b\b\b\b\b\b\b\b\b\b\b\b\b\b\b\b\b\b\b\b\b\b\b\b\b\b\b\b\b\b\b\b\b\b\b\b\b\b\b\b\b\b\b\b\r602/602 [==============================] - 521s 865ms/step - loss: 1.1910 - accuracy: 0.6746 - val_loss: 0.5469 - val_accuracy: 0.8139\n",
            "Epoch 2/7\n",
            "602/602 [==============================] - ETA: 0s - loss: 0.4715 - accuracy: 0.8441INFO:tensorflow:Assets written to: tmp/checkpoint/m.ckpt/assets\n"
          ],
          "name": "stdout"
        },
        {
          "output_type": "stream",
          "text": [
            "INFO:tensorflow:Assets written to: tmp/checkpoint/m.ckpt/assets\n"
          ],
          "name": "stderr"
        },
        {
          "output_type": "stream",
          "text": [
            "\b\b\b\b\b\b\b\b\b\b\b\b\b\b\b\b\b\b\b\b\b\b\b\b\b\b\b\b\b\b\b\b\b\b\b\b\b\b\b\b\b\b\b\b\b\b\b\b\b\b\b\b\b\b\b\b\b\b\b\b\b\b\b\b\b\b\b\b\b\b\b\b\b\b\b\b\b\b\b\b\b\b\b\b\r602/602 [==============================] - 519s 862ms/step - loss: 0.4715 - accuracy: 0.8441 - val_loss: 0.4454 - val_accuracy: 0.8539\n",
            "Epoch 3/7\n",
            "602/602 [==============================] - ETA: 0s - loss: 0.3196 - accuracy: 0.8964INFO:tensorflow:Assets written to: tmp/checkpoint/m.ckpt/assets\n"
          ],
          "name": "stdout"
        },
        {
          "output_type": "stream",
          "text": [
            "INFO:tensorflow:Assets written to: tmp/checkpoint/m.ckpt/assets\n"
          ],
          "name": "stderr"
        },
        {
          "output_type": "stream",
          "text": [
            "\b\b\b\b\b\b\b\b\b\b\b\b\b\b\b\b\b\b\b\b\b\b\b\b\b\b\b\b\b\b\b\b\b\b\b\b\b\b\b\b\b\b\b\b\b\b\b\b\b\b\b\b\b\b\b\b\b\b\b\b\b\b\b\b\b\b\b\b\b\b\b\b\b\b\b\b\b\b\b\b\b\b\b\b\r602/602 [==============================] - 520s 864ms/step - loss: 0.3196 - accuracy: 0.8964 - val_loss: 0.2335 - val_accuracy: 0.9316\n",
            "Epoch 4/7\n",
            "602/602 [==============================] - ETA: 0s - loss: 0.2547 - accuracy: 0.9182INFO:tensorflow:Assets written to: tmp/checkpoint/m.ckpt/assets\n"
          ],
          "name": "stdout"
        },
        {
          "output_type": "stream",
          "text": [
            "INFO:tensorflow:Assets written to: tmp/checkpoint/m.ckpt/assets\n"
          ],
          "name": "stderr"
        },
        {
          "output_type": "stream",
          "text": [
            "\b\b\b\b\b\b\b\b\b\b\b\b\b\b\b\b\b\b\b\b\b\b\b\b\b\b\b\b\b\b\b\b\b\b\b\b\b\b\b\b\b\b\b\b\b\b\b\b\b\b\b\b\b\b\b\b\b\b\b\b\b\b\b\b\b\b\b\b\b\b\b\b\b\b\b\b\b\b\b\b\b\b\b\b\r602/602 [==============================] - 521s 865ms/step - loss: 0.2547 - accuracy: 0.9182 - val_loss: 0.1903 - val_accuracy: 0.9420\n",
            "Epoch 5/7\n",
            "602/602 [==============================] - 519s 863ms/step - loss: 0.2208 - accuracy: 0.9281 - val_loss: 0.1977 - val_accuracy: 0.9379\n",
            "Epoch 6/7\n",
            "602/602 [==============================] - ETA: 0s - loss: 0.1957 - accuracy: 0.9373INFO:tensorflow:Assets written to: tmp/checkpoint/m.ckpt/assets\n"
          ],
          "name": "stdout"
        },
        {
          "output_type": "stream",
          "text": [
            "INFO:tensorflow:Assets written to: tmp/checkpoint/m.ckpt/assets\n"
          ],
          "name": "stderr"
        },
        {
          "output_type": "stream",
          "text": [
            "\b\b\b\b\b\b\b\b\b\b\b\b\b\b\b\b\b\b\b\b\b\b\b\b\b\b\b\b\b\b\b\b\b\b\b\b\b\b\b\b\b\b\b\b\b\b\b\b\b\b\b\b\b\b\b\b\b\b\b\b\b\b\b\b\b\b\b\b\b\b\b\b\b\b\b\b\b\b\b\b\b\b\b\b\r602/602 [==============================] - 522s 866ms/step - loss: 0.1957 - accuracy: 0.9373 - val_loss: 0.1833 - val_accuracy: 0.9440\n",
            "Epoch 7/7\n",
            "602/602 [==============================] - ETA: 0s - loss: 0.1798 - accuracy: 0.9429INFO:tensorflow:Assets written to: tmp/checkpoint/m.ckpt/assets\n"
          ],
          "name": "stdout"
        },
        {
          "output_type": "stream",
          "text": [
            "INFO:tensorflow:Assets written to: tmp/checkpoint/m.ckpt/assets\n"
          ],
          "name": "stderr"
        },
        {
          "output_type": "stream",
          "text": [
            "\b\b\b\b\b\b\b\b\b\b\b\b\b\b\b\b\b\b\b\b\b\b\b\b\b\b\b\b\b\b\b\b\b\b\b\b\b\b\b\b\b\b\b\b\b\b\b\b\b\b\b\b\b\b\b\b\b\b\b\b\b\b\b\b\b\b\b\b\b\b\b\b\b\b\b\b\b\b\b\b\b\b\b\b\r602/602 [==============================] - 522s 867ms/step - loss: 0.1798 - accuracy: 0.9429 - val_loss: 0.1590 - val_accuracy: 0.9522\n"
          ],
          "name": "stdout"
        },
        {
          "output_type": "display_data",
          "data": {
            "image/png": "[encoded data removed]",
            "text/plain": [
              "<Figure size 432x288 with 1 Axes>"
            ]
          },
          "metadata": {
            "tags": [],
            "needs_background": "light"
          }
        }
      ]
    },
    {
      "cell_type": "markdown",
      "metadata": {
        "id": "OpJ1bAcUNSGj"
      },
      "source": [
        "### 4.2 Test (15 Points)\n",
        "Let's see how our model performs on the test set. Use Keras' `evaluate` function to get the test loss and test accuracy, and plot the confusion matrix. Your test accuracy must be at least 90% to get full credit and the confusion matrix should have the features shown in the image below, namely the axis labels, ticks, values which are normalized (do not need to be the same values), and a color bar:\n",
        "<center>\n",
        "<img src=\"https://drive.google.com/thumbnail?id=12aSyDa53eBT-os4EJYFYGtwYXo6vy-ib&sz=w700\" alt=\"wave\"/>\n",
        "<br>\n",
        "</center>"
      ]
    },
    {
      "cell_type": "code",
      "metadata": {
        "id": "tPcUK_F05K3b",
        "colab": {
          "base_uri": "https://localhost:8080/",
          "height": 587
        },
        "outputId": "5d2a8825-a673-49cb-e2e9-ca875c3ae123"
      },
      "source": [
        "class_names = ['down', 'go', 'left', 'no', 'off', 'on', 'right', 'stop', 'up',\n",
        "               'yes','unknown', 'silence']\n",
        "\n",
        "# TODO: your code here (Keras evaluation)\n",
        "eval = model.evaluate(\n",
        "    test_set, verbose=1, sample_weight=None, steps=None,\n",
        "    callbacks=None, max_queue_size=10, workers=1, use_multiprocessing=False,\n",
        "    return_dict=False\n",
        ")\n",
        "\n",
        "for i in range(2):\n",
        "  print(model.metrics_names[i] + ': ', eval[i])\n",
        "\n",
        "y_true = []\n",
        "predictions = model.predict(test_set)\n",
        "\n",
        "y_pred = []\n",
        "for i in predictions:\n",
        "  y_pred.append(np.argmax(i))\n",
        "\n",
        "\n",
        "for x,y in test_set:\n",
        "  for i in y:\n",
        "    y_true.append(i)\n",
        "\n",
        "# TODO: your code here (confusion matrix)\n",
        "from sklearn.metrics import confusion_matrix, plot_confusion_matrix\n",
        "import pandas as pd\n",
        "import seaborn as sns\n",
        "\n",
        "cm = tf.math.confusion_matrix(y_true, y_pred) \n",
        "cmn = cm / cm.numpy().sum(axis=1)[:, np.newaxis]\n",
        "cmn = np.round(cmn,3)\n",
        "plt.figure(figsize=(10, 8))\n",
        "sns.heatmap(cmn, xticklabels=class_names, yticklabels=class_names, \n",
        "            annot=True, fmt='g')\n",
        "plt.xlabel('Predicted Label')\n",
        "plt.ylabel('True Label')\n",
        "plt.show()"
      ],
      "execution_count": null,
      "outputs": [
        {
          "output_type": "stream",
          "text": [
            "39/39 [==============================] - 27s 702ms/step - loss: 0.3169 - accuracy: 0.9002\n",
            "loss:  0.31693363189697266\n",
            "accuracy:  0.9002044796943665\n"
          ],
          "name": "stdout"
        },
        {
          "output_type": "display_data",
          "data": {
            "image/png": "[encoded data removed]",
            "text/plain": [
              "<Figure size 720x576 with 2 Axes>"
            ]
          },
          "metadata": {
            "tags": [],
            "needs_background": "light"
          }
        }
      ]
    },
    {
      "cell_type": "markdown",
      "metadata": {
        "id": "dbg37gkl2Nl9"
      },
      "source": [
        "### 4.3 Fun Test (Ungraded)\n",
        "\n",
        "Let's use the Web Audio API to see if our model can predict correctly when listening to our own voice. Run the cell below to record a 1-second recording of yourself saying one of the target words (e.g. \"up\", \"down\", etc.). Listen to the result to ensure that the recording is good (try speaking right after \"Recording...\" appears). Then, run the next cell to see if your model predicted correctly."
      ]
    },
    {
      "cell_type": "code",
      "metadata": {
        "id": "3Bk8GQD73CYe",
        "colab": {
          "base_uri": "https://localhost:8080/",
          "height": 109
        },
        "outputId": "6d9fc9c6-e1c7-4428-e436-a932803f54ec"
      },
      "source": [
        "from IPython.display import Javascript\n",
        "from google.colab import output\n",
        "from base64 import b64decode\n",
        "\n",
        "RECORD = \"\"\"\n",
        "const sleep  = time => new Promise(resolve => setTimeout(resolve, time))\n",
        "const b2text = blob => new Promise(resolve => {\n",
        "  const reader = new FileReader()\n",
        "  reader.onloadend = e => resolve(e.srcElement.result)\n",
        "  reader.readAsDataURL(blob)\n",
        "})\n",
        "var record = time => new Promise(async resolve => {\n",
        "  stream = await navigator.mediaDevices.getUserMedia({ audio: true })\n",
        "  recorder = new MediaRecorder(stream)\n",
        "  chunks = []\n",
        "  recorder.ondataavailable = e => chunks.push(e.data)\n",
        "  recorder.start()\n",
        "  await sleep(time)\n",
        "  recorder.onstop = async ()=>{\n",
        "    blob = new Blob(chunks)\n",
        "    text = await b2text(blob)\n",
        "    resolve(text)\n",
        "  }\n",
        "  recorder.stop()\n",
        "})\n",
        "\"\"\"\n",
        "\n",
        "def record(sec=1.1):\n",
        "  print('Recording...')\n",
        "  display.display(Javascript(RECORD))\n",
        "  s = output.eval_js('record(%d)' % (sec*1000))\n",
        "  b = b64decode(s.split(',')[1])\n",
        "  fp = 'my_rec.wav'\n",
        "  with open(fp,'wb') as f:\n",
        "    f.write(b)\n",
        "  print('Done.')\n",
        "  return fp\n",
        "\n",
        "fp = record()\n",
        "signal, sr = librosa.load(fp, sr=16000)\n",
        "signal = signal[-sr:]\n",
        "display.display(Audio(signal, rate=sr))"
      ],
      "execution_count": null,
      "outputs": [
        {
          "output_type": "stream",
          "text": [
            "Recording...\n"
          ],
          "name": "stdout"
        },
        {
          "output_type": "display_data",
          "data": {
            "application/javascript": [
              "\n",
              "const sleep  = time => new Promise(resolve => setTimeout(resolve, time))\n",
              "const b2text = blob => new Promise(resolve => {\n",
              "  const reader = new FileReader()\n",
              "  reader.onloadend = e => resolve(e.srcElement.result)\n",
              "  reader.readAsDataURL(blob)\n",
              "})\n",
              "var record = time => new Promise(async resolve => {\n",
              "  stream = await navigator.mediaDevices.getUserMedia({ audio: true })\n",
              "  recorder = new MediaRecorder(stream)\n",
              "  chunks = []\n",
              "  recorder.ondataavailable = e => chunks.push(e.data)\n",
              "  recorder.start()\n",
              "  await sleep(time)\n",
              "  recorder.onstop = async ()=>{\n",
              "    blob = new Blob(chunks)\n",
              "    text = await b2text(blob)\n",
              "    resolve(text)\n",
              "  }\n",
              "  recorder.stop()\n",
              "})\n"
            ],
            "text/plain": [
              "<IPython.core.display.Javascript object>"
            ]
          },
          "metadata": {
            "tags": []
          }
        },
        {
          "output_type": "stream",
          "text": [
            "Done.\n"
          ],
          "name": "stdout"
        },
        {
          "output_type": "display_data",
          "data": {
            "text/html": [
              "\n",
              "                <audio controls=\"controls\" >\n",
              "                    <source src=\"data:audio/wav;base64,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\" type=\"audio/wav\" />\n",
              "                    Your browser does not support the audio element.\n",
              "                </audio>\n",
              "              "
            ],
            "text/plain": [
              "<IPython.lib.display.Audio object>"
            ]
          },
          "metadata": {
            "tags": []
          }
        }
      ]
    },
    {
      "cell_type": "markdown",
      "metadata": {
        "id": "c9HhW3_uhBZI"
      },
      "source": [
        "If your recording sounds reasonable, run the next cell to see if the model recognizes your speech!"
      ]
    },
    {
      "cell_type": "code",
      "metadata": {
        "id": "EbT-70335eAM",
        "colab": {
          "base_uri": "https://localhost:8080/",
          "height": 34
        },
        "outputId": "105447ab-70f2-4c7c-8c4f-30b29873d333"
      },
      "source": [
        "# predict a single recording\n",
        "spec = normalize(get_db_spec(signal))\n",
        "one_hot_pred = model.predict(np.array([spec]))\n",
        "pred_to_text = class_names[np.argmax(one_hot_pred)]\n",
        "print('You said', pred_to_text)"
      ],
      "execution_count": null,
      "outputs": [
        {
          "output_type": "stream",
          "text": [
            "You said yes\n"
          ],
          "name": "stdout"
        }
      ]
    },
    {
      "cell_type": "markdown",
      "metadata": {
        "id": "tm5I7xr7DZkR"
      },
      "source": [
        "# **Part 2: Computer Vision (Image Classification on CIFAR-10)**\n",
        "\n",
        "In this section, we will explore implementing and improving upon some simple convolutional networks to perform image recognition on the [CIFAR-10](https://www.cs.toronto.edu/~kriz/cifar.html) dataset. This dataset consists of $32 \\times 32$ RGB images of objects from 10 classes: `airplane`, `automobile`, `bird`, `cat`, `deer`, `dog`, `frog`, `horse`, `ship`, and `truck`.\n",
        "\n",
        "We'll be using Colab's GPU to expedite our training, so before we get started, navigate to `Runtime>Change runtime type` and make sure you have GPU selected.\n",
        "\n",
        "<center>\n",
        "<img src=\"https://drive.google.com/thumbnail?id=1wgoaxYIpKCq9Ihu7rfrursmsFgz318HN&sz=w600\" alt=\"block_cnn\"/>\n",
        "<br>\n",
        "<i>The CIFAR-10 Dataset: 10 random images from each class.</i>\n",
        "</center>"
      ]
    },
    {
      "cell_type": "markdown",
      "metadata": {
        "id": "J_ZgU9P4X_5K"
      },
      "source": [
        "### **Imports and Data Preparation**\n",
        "\n",
        "Now, let's load and format the dataset, which is conveniently available directly from Keras, whilst importing any packages we might need."
      ]
    },
    {
      "cell_type": "code",
      "metadata": {
        "id": "Qk3s70lsEHr4",
        "colab": {
          "base_uri": "https://localhost:8080/"
        },
        "outputId": "40823b65-76d9-4fdc-fd16-5146e92ad96f"
      },
      "source": [
        "# DO NOT MODIFY THIS CELL\n",
        "import numpy as np\n",
        "import tensorflow as tf\n",
        "from tensorflow import keras\n",
        "import imgaug as ia\n",
        "from imgaug import augmenters as iaa\n",
        "import matplotlib\n",
        "import matplotlib.pyplot as plt\n",
        "\n",
        "classes = np.array(['airplane', 'automobile', 'bird', 'cat', 'deer', 'dog',\n",
        "                    'frog', 'horse', 'ship', 'truck'])\n",
        "(train, test) = keras.datasets.cifar10.load_data()\n",
        "\n",
        "# convert uint8 RGB images to float RGB images in range [0,1]\n",
        "train_input = train[0].astype(np.float32) / 255.0\n",
        "test_input = test[0].astype(np.float32) / 255.0\n",
        "# convert class labels to one-hot encoding\n",
        "train_targets = keras.utils.to_categorical(train[1], num_classes=10)\n",
        "test_targets = keras.utils.to_categorical(test[1], num_classes=10)"
      ],
      "execution_count": null,
      "outputs": [
        {
          "output_type": "stream",
          "text": [
            "Downloading data from https://www.cs.toronto.edu/~kriz/cifar-10-python.tar.gz\n",
            "170500096/170498071 [==============================] - 4s 0us/step\n"
          ],
          "name": "stdout"
        }
      ]
    },
    {
      "cell_type": "markdown",
      "metadata": {
        "id": "noBuJ-fIZJ0m"
      },
      "source": [
        "### **Problem 1: Building a Simple Model (5 Points)**\n",
        "\n",
        "Let's start with a fairly barebones CNN architecture to tackle this learning problem, and dub it \"model 1\". The architecture details are displayed below.\n",
        "\n",
        "$$\n",
        "\\begin{array}{c|c|c}\n",
        "\\text{Layer Type} & \\text{Activation} & \\text{Output Shape} \\\\\n",
        "\\hline\n",
        "\\text{Input} & \\text{N/A} & (32,32,3) \\\\\n",
        "\\text{Conv2D} & \\text{ReLU} & (32,32,8) \\\\\n",
        "\\text{MaxPool2D} & \\text{N/A} & (16,16,8) \\\\\n",
        "\\text{Conv2D} & \\text{ReLU} & (16,16,16) \\\\\n",
        "\\text{MaxPool2D} & \\text{N/A} & (8,8,16) \\\\\n",
        "\\text{Flatten} & \\text{N/A} & (1024,) \\\\\n",
        "\\text{Dense} & \\text{Softmax*} & (10,)\n",
        "\\end{array}\n",
        "$$\n",
        "\n",
        "$\\text{*}$ omit this activation; we'll use a more numerically stable training method that already has this in the loss function.\n",
        "\n",
        "All convolutional filters have $3 \\times 3$ spatial size, and all max pooling is done over a $2 \\times 2$ grid in the spatial dimensions. We always use `same` padding to preserve the spatial dimensions. All trainable layers learn both weights and biases. The batch dimension has been omitted from the \"$\\text{Output Shape}$\" column."
      ]
    },
    {
      "cell_type": "markdown",
      "metadata": {
        "id": "EaQc01c1avts"
      },
      "source": [
        "#### **1.1 Implementation (5 Points)**\n",
        "\n",
        "Implement the above architecture using the Keras API in the function **`model_1`** provided below, which should simply create a Keras model and return it. For weight initialization, pick an appropriate initializer for the layer's activation function. Don't worry about compiling the model; we'll do that later."
      ]
    },
    {
      "cell_type": "code",
      "metadata": {
        "id": "5yvYErv5G6vZ",
        "colab": {
          "base_uri": "https://localhost:8080/"
        },
        "outputId": "71e870a9-751d-4015-f259-af6a1840eaa0"
      },
      "source": [
        "from tensorflow.keras.layers import Flatten, Input\n",
        "\n",
        "def model_1():\n",
        "\n",
        "  model = models.Sequential()\n",
        "\n",
        "  model.add(Input(shape=[32,32,3]))\n",
        "\n",
        "  # 1st Convolution Layer (with Batch Normalization and Relu Activation)\n",
        "  model.add(Conv2D(\n",
        "      input_shape=[32,32,3],\n",
        "      filters=8,\n",
        "      kernel_size=3,\n",
        "      padding=\"same\",\n",
        "      data_format='channels_last',\n",
        "      activation='relu',\n",
        "      use_bias=True,\n",
        "      kernel_initializer='he_normal'))\n",
        "\n",
        "  # 1st Max Pooling\n",
        "  model.add(MaxPooling2D(strides=2, padding=\"same\", pool_size=3,data_format='channels_last'))\n",
        "\n",
        "  # 2nd Convolution Layer (with Batch Normalization and Relu Activation)\n",
        "  model.add(Conv2D(16,3, padding=\"same\",data_format='channels_last', activation='relu',kernel_initializer='he_normal'))\n",
        "\n",
        "  # 2nd Max Pooling\n",
        "  model.add(MaxPooling2D(strides=2, padding=\"same\", pool_size=3,data_format='channels_last'))\n",
        "\n",
        "  # flatten\n",
        "  model.add(Flatten())\n",
        "\n",
        "  model.add(Dense(10))\n",
        "\n",
        "  return model\n",
        "\n",
        "\n",
        "\n",
        "model = model_1()\n",
        "model.summary()"
      ],
      "execution_count": null,
      "outputs": [
        {
          "output_type": "stream",
          "text": [
            "Model: \"sequential_13\"\n",
            "_________________________________________________________________\n",
            "Layer (type)                 Output Shape              Param #   \n",
            "=================================================================\n",
            "conv2d_39 (Conv2D)           (None, 32, 32, 8)         224       \n",
            "_________________________________________________________________\n",
            "max_pooling2d_29 (MaxPooling (None, 16, 16, 8)         0         \n",
            "_________________________________________________________________\n",
            "conv2d_40 (Conv2D)           (None, 16, 16, 16)        1168      \n",
            "_________________________________________________________________\n",
            "max_pooling2d_30 (MaxPooling (None, 8, 8, 16)          0         \n",
            "_________________________________________________________________\n",
            "flatten_7 (Flatten)          (None, 1024)              0         \n",
            "_________________________________________________________________\n",
            "dense_16 (Dense)             (None, 10)                10250     \n",
            "=================================================================\n",
            "Total params: 11,642\n",
            "Trainable params: 11,642\n",
            "Non-trainable params: 0\n",
            "_________________________________________________________________\n"
          ],
          "name": "stdout"
        }
      ]
    },
    {
      "cell_type": "markdown",
      "metadata": {
        "id": "452RUo92HS2M"
      },
      "source": [
        "As a sanity check, let's visualize the implemented model, to confirm that it matches the description above (and that the model can be created without error). Note: the question mark you'll see in each shape, e.g. (?, 32, ...), is simply a placeholder for the amount of training data."
      ]
    },
    {
      "cell_type": "code",
      "metadata": {
        "id": "mExOH-YpIenh",
        "colab": {
          "base_uri": "https://localhost:8080/",
          "height": 754
        },
        "outputId": "33091bef-ad65-4ebd-f4f1-703ffaa26626"
      },
      "source": [
        "# DO NOT MODIFY THIS CELL\n",
        "keras.utils.plot_model(model_1(), show_shapes=True, show_layer_names=False)"
      ],
      "execution_count": null,
      "outputs": [
        {
          "output_type": "execute_result",
          "data": {
            "image/png": "[encoded data removed]",
            "text/plain": [
              "<IPython.core.display.Image object>"
            ]
          },
          "metadata": {
            "tags": []
          },
          "execution_count": 23
        }
      ]
    },
    {
      "cell_type": "markdown",
      "metadata": {
        "id": "NhdW7nxHKOuC"
      },
      "source": [
        "### **Problem 2: Building a More Complex Model (5 Points)**\n",
        "\n",
        "Next, let's also create a similar, but more complex model that we'll call \"model 2\". Its architecture is displayed below.\n",
        "\n",
        "$$\n",
        "\\begin{array}{c|c|c}\n",
        "\\text{Layer Type} & \\text{Activation} & \\text{Output Shape} \\\\\n",
        "\\hline\n",
        "\\text{Input} & \\text{N/A} & (32,32,3) \\\\\n",
        "\\text{Conv2D} & \\text{ReLU} & (32,32,64) \\\\\n",
        "\\text{Conv2D} & \\text{ReLU} & (32,32,64) \\\\\n",
        "\\text{MaxPool2D} & \\text{N/A} & (16,16,64) \\\\\n",
        "\\text{Conv2D} & \\text{ReLU} & (16,16,128) \\\\\n",
        "\\text{Conv2D} & \\text{ReLU} & (16,16,128) \\\\\n",
        "\\text{MaxPool2D} & \\text{N/A} & (8,8,128) \\\\\n",
        "\\text{Conv2D} & \\text{ReLU} & (8,8,192) \\\\\n",
        "\\text{Conv2D} & \\text{ReLU} & (8,8,192) \\\\\n",
        "\\text{MaxPool2D} & \\text{N/A} & (4,4,192) \\\\\n",
        "\\text{Conv2D} & \\text{ReLU} & (4,4,256) \\\\\n",
        "\\text{Conv2D} & \\text{ReLU} & (4,4,256) \\\\\n",
        "\\text{MaxPool2D} & \\text{N/A} & (2,2,256) \\\\\n",
        "\\text{Flatten} & \\text{N/A} & (1024,) \\\\\n",
        "\\text{Dense} & \\text{ReLU} & (512,) \\\\\n",
        "\\text{Dense} & \\text{Softmax*} & (10,)\n",
        "\\end{array}\n",
        "$$\n",
        "\n",
        "$\\text{*}$ as with model 1, omit this activation.\n",
        "\n",
        "The filter and padding details for the layers are the same as in model 1."
      ]
    },
    {
      "cell_type": "markdown",
      "metadata": {
        "id": "2_yAslRlarTN"
      },
      "source": [
        "#### **2.1 Implementation (5 Points)**\n",
        "\n",
        "Just like you did with model 1, implement model 2 in the function **`model_2`** provided below."
      ]
    },
    {
      "cell_type": "code",
      "metadata": {
        "id": "Oi6a4KpskLqY"
      },
      "source": [
        "def model_2():\n",
        "  model = models.Sequential()\n",
        "\n",
        "  model.add(Input(shape=[32,32,3]))\n",
        "\n",
        "  # 1st Convolution Layer (with Batch Normalization and Relu Activation)\n",
        "  model.add(Conv2D(\n",
        "      input_shape=[32,32,3],\n",
        "      filters=64,\n",
        "      kernel_size=3,\n",
        "      padding=\"same\",\n",
        "      data_format='channels_last',\n",
        "      activation='relu',\n",
        "      use_bias=True,\n",
        "      kernel_initializer='he_normal'))\n",
        "  \n",
        "  # 2nd Convolution Layer (with Batch Normalization and Relu Activation)\n",
        "  model.add(Conv2D(64,3, padding=\"same\",data_format='channels_last', activation='relu',kernel_initializer='he_normal'))\n",
        "\n",
        "  # 1st Max Pooling\n",
        "  model.add(MaxPooling2D(strides=2, padding=\"same\", pool_size=3,data_format='channels_last'))\n",
        "\n",
        "  # 3rd Convolution Layer (with Batch Normalization and Relu Activation)\n",
        "  model.add(Conv2D(128,3, padding=\"same\",data_format='channels_last', activation='relu',kernel_initializer='he_normal'))\n",
        "\n",
        "  # 4th Convolution Layer (with Batch Normalization and Relu Activation)\n",
        "  model.add(Conv2D(128,3, padding=\"same\",data_format='channels_last', activation='relu',kernel_initializer='he_normal'))\n",
        "\n",
        "  # 2nd Max Pooling\n",
        "  model.add(MaxPooling2D(strides=2, padding=\"same\", pool_size=3,data_format='channels_last'))\n",
        "\n",
        "  # 5th Convolution Layer (with Batch Normalization and Relu Activation)\n",
        "  model.add(Conv2D(192,3, padding=\"same\",data_format='channels_last', activation='relu',kernel_initializer='he_normal'))\n",
        "\n",
        "  # 6th Convolution Layer (with Batch Normalization and Relu Activation)\n",
        "  model.add(Conv2D(192,3, padding=\"same\",data_format='channels_last', activation='relu',kernel_initializer='he_normal'))\n",
        "\n",
        "  # 3rd Max Pooling\n",
        "  model.add(MaxPooling2D(strides=2, padding=\"same\", pool_size=3,data_format='channels_last'))\n",
        "\n",
        "  # 7th Convolution Layer (with Batch Normalization and Relu Activation)\n",
        "  model.add(Conv2D(256,3, padding=\"same\",data_format='channels_last', activation='relu',kernel_initializer='he_normal'))\n",
        "\n",
        "  # 8th Convolution Layer (with Batch Normalization and Relu Activation)\n",
        "  model.add(Conv2D(256,3, padding=\"same\",data_format='channels_last', activation='relu',kernel_initializer='he_normal'))\n",
        "\n",
        "  # 3rd Max Pooling\n",
        "  model.add(MaxPooling2D(strides=2, padding=\"same\", pool_size=3,data_format='channels_last'))\n",
        "\n",
        "  # flatten\n",
        "  model.add(Flatten())\n",
        "\n",
        "  model.add(Dense(512))\n",
        "\n",
        "  model.add(Dense(10))\n",
        "\n",
        "  return model"
      ],
      "execution_count": null,
      "outputs": []
    },
    {
      "cell_type": "markdown",
      "metadata": {
        "id": "NEYSDDFbLlQk"
      },
      "source": [
        "Again, let's visualize this one, too."
      ]
    },
    {
      "cell_type": "code",
      "metadata": {
        "id": "nuoYjuJBLom-",
        "colab": {
          "base_uri": "https://localhost:8080/",
          "height": 1000
        },
        "outputId": "02005372-8ca4-4628-88b0-778ab0eaf12d"
      },
      "source": [
        "# DO NOT MODIFY THIS CELL\n",
        "keras.utils.plot_model(model_2(), show_shapes=True, show_layer_names=False)"
      ],
      "execution_count": null,
      "outputs": [
        {
          "output_type": "execute_result",
          "data": {
            "image/png": "[encoded data removed]",
            "text/plain": [
              "<IPython.core.display.Image object>"
            ]
          },
          "metadata": {
            "tags": []
          },
          "execution_count": 31
        }
      ]
    },
    {
      "cell_type": "markdown",
      "metadata": {
        "id": "SlirazgoLyX4"
      },
      "source": [
        "### **Problem 3: Training experiments (10 Points)**\n",
        "\n",
        "To get a sense of how these models perform on our dataset without taking much training time, let's see how the loss and accuracy of each model evolves during the first ten training epochs. Although each image in the dataset is small, there are 50,000 training examples, so this may take a minute or two."
      ]
    },
    {
      "cell_type": "code",
      "metadata": {
        "id": "rvfmVPurA-6V",
        "colab": {
          "base_uri": "https://localhost:8080/",
          "height": 1000
        },
        "outputId": "b6271043-831d-4c09-9d3b-fd5907e288f3"
      },
      "source": [
        "# DO NOT MODIFY THIS CELL\n",
        "# get the models\n",
        "m1 = model_1()\n",
        "m2 = model_2()\n",
        "hist = []\n",
        "for (m_i, model) in enumerate([m1, m2]):\n",
        "  opt = keras.optimizers.Nadam() # optimizer\n",
        "  loss = keras.losses.CategoricalCrossentropy(from_logits=True) # loss function\n",
        "  # compile and train, saving the training history (contains losses and metrics)\n",
        "  model.compile(optimizer=opt, loss=loss, metrics=['categorical_accuracy'])\n",
        "  hist.append(model.fit(x=train_input, y=train_targets,\n",
        "                        validation_data=(test_input, test_targets),\n",
        "                        batch_size=100, epochs=10, verbose=2))\n",
        "# generate loss plots\n",
        "fsize = plt.rcParams.get('figure.figsize') # the default figure size for scaling purposes\n",
        "# create the plots side-by-side w/ locked y-axis for better comparison\n",
        "num_plots = len(hist)\n",
        "_, axarr = plt.subplots(1, num_plots, figsize=(fsize[0]*num_plots, fsize[1]), sharey=True)\n",
        "for (m_i, hist_i) in enumerate(hist):\n",
        "  axarr[m_i].semilogy(hist_i.history['loss'], label='model {:d} train loss'.format(m_i + 1))\n",
        "  axarr[m_i].semilogy(hist_i.history['val_loss'], label='model {:d} test loss'.format(m_i + 1))\n",
        "  axarr[m_i].set_xlabel('epoch')\n",
        "  axarr[m_i].set_ylabel('loss')\n",
        "  axarr[m_i].set_title('model {:d} loss'.format(m_i + 1))\n",
        "  axarr[m_i].legend()\n",
        "plt.tight_layout()\n",
        "# generate accuracy plots (pretty much same procedure as with loss plots)\n",
        "_, axarr = plt.subplots(1, num_plots, figsize=(fsize[0]*num_plots, fsize[1]), sharey=True)\n",
        "for (m_i, hist_i) in enumerate(hist):\n",
        "  axarr[m_i].plot(hist_i.history['categorical_accuracy'], label='model {:d} train acc'.format(m_i + 1))\n",
        "  axarr[m_i].plot(hist_i.history['val_categorical_accuracy'], label='model {:d} test acc'.format(m_i + 1))\n",
        "  axarr[m_i].set_xlabel('epoch')\n",
        "  axarr[m_i].set_ylabel('accuracy')\n",
        "  axarr[m_i].set_title('model {:d} accuracy'.format(m_i + 1))\n",
        "  axarr[m_i].legend()\n",
        "plt.tight_layout()"
      ],
      "execution_count": null,
      "outputs": [
        {
          "output_type": "stream",
          "text": [
            "Epoch 1/10\n",
            "500/500 - 3s - loss: 1.6002 - categorical_accuracy: 0.4350 - val_loss: 1.3649 - val_categorical_accuracy: 0.5200\n",
            "Epoch 2/10\n",
            "500/500 - 2s - loss: 1.3090 - categorical_accuracy: 0.5439 - val_loss: 1.2632 - val_categorical_accuracy: 0.5565\n",
            "Epoch 3/10\n",
            "500/500 - 2s - loss: 1.2251 - categorical_accuracy: 0.5735 - val_loss: 1.2047 - val_categorical_accuracy: 0.5774\n",
            "Epoch 4/10\n",
            "500/500 - 2s - loss: 1.1742 - categorical_accuracy: 0.5889 - val_loss: 1.1613 - val_categorical_accuracy: 0.5933\n",
            "Epoch 5/10\n",
            "500/500 - 2s - loss: 1.1349 - categorical_accuracy: 0.6047 - val_loss: 1.1404 - val_categorical_accuracy: 0.6050\n",
            "Epoch 6/10\n",
            "500/500 - 2s - loss: 1.1052 - categorical_accuracy: 0.6154 - val_loss: 1.1194 - val_categorical_accuracy: 0.6108\n",
            "Epoch 7/10\n",
            "500/500 - 2s - loss: 1.0823 - categorical_accuracy: 0.6230 - val_loss: 1.1002 - val_categorical_accuracy: 0.6155\n",
            "Epoch 8/10\n",
            "500/500 - 2s - loss: 1.0607 - categorical_accuracy: 0.6338 - val_loss: 1.0896 - val_categorical_accuracy: 0.6195\n",
            "Epoch 9/10\n",
            "500/500 - 2s - loss: 1.0421 - categorical_accuracy: 0.6378 - val_loss: 1.1024 - val_categorical_accuracy: 0.6184\n",
            "Epoch 10/10\n",
            "500/500 - 2s - loss: 1.0280 - categorical_accuracy: 0.6441 - val_loss: 1.0665 - val_categorical_accuracy: 0.6305\n",
            "Epoch 1/10\n",
            "WARNING:tensorflow:Callbacks method `on_test_batch_end` is slow compared to the batch time (batch time: 0.0020s vs `on_test_batch_end` time: 0.0048s). Check your callbacks.\n"
          ],
          "name": "stdout"
        },
        {
          "output_type": "stream",
          "text": [
            "WARNING:tensorflow:Callbacks method `on_test_batch_end` is slow compared to the batch time (batch time: 0.0020s vs `on_test_batch_end` time: 0.0048s). Check your callbacks.\n"
          ],
          "name": "stderr"
        },
        {
          "output_type": "stream",
          "text": [
            "500/500 - 13s - loss: 1.9575 - categorical_accuracy: 0.2789 - val_loss: 1.3561 - val_categorical_accuracy: 0.5053\n",
            "Epoch 2/10\n",
            "500/500 - 12s - loss: 1.2190 - categorical_accuracy: 0.5625 - val_loss: 1.0013 - val_categorical_accuracy: 0.6512\n",
            "Epoch 3/10\n",
            "500/500 - 11s - loss: 0.8764 - categorical_accuracy: 0.6912 - val_loss: 0.8268 - val_categorical_accuracy: 0.7096\n",
            "Epoch 4/10\n",
            "500/500 - 11s - loss: 0.6829 - categorical_accuracy: 0.7629 - val_loss: 0.7770 - val_categorical_accuracy: 0.7394\n",
            "Epoch 5/10\n",
            "500/500 - 11s - loss: 0.5575 - categorical_accuracy: 0.8068 - val_loss: 0.7340 - val_categorical_accuracy: 0.7524\n",
            "Epoch 6/10\n",
            "500/500 - 11s - loss: 0.4639 - categorical_accuracy: 0.8398 - val_loss: 0.7260 - val_categorical_accuracy: 0.7655\n",
            "Epoch 7/10\n",
            "500/500 - 11s - loss: 0.3912 - categorical_accuracy: 0.8625 - val_loss: 0.6851 - val_categorical_accuracy: 0.7880\n",
            "Epoch 8/10\n",
            "500/500 - 11s - loss: 0.3340 - categorical_accuracy: 0.8835 - val_loss: 0.7176 - val_categorical_accuracy: 0.7781\n",
            "Epoch 9/10\n",
            "500/500 - 11s - loss: 0.2872 - categorical_accuracy: 0.8995 - val_loss: 0.7982 - val_categorical_accuracy: 0.7775\n",
            "Epoch 10/10\n",
            "500/500 - 11s - loss: 0.2592 - categorical_accuracy: 0.9089 - val_loss: 0.8142 - val_categorical_accuracy: 0.7819\n"
          ],
          "name": "stdout"
        },
        {
          "output_type": "display_data",
          "data": {
            "image/png": "[encoded data removed]",
            "text/plain": [
              "<Figure size 864x288 with 2 Axes>"
            ]
          },
          "metadata": {
            "tags": [],
            "needs_background": "light"
          }
        },
        {
          "output_type": "display_data",
          "data": {
            "image/png": "[encoded data removed]",
            "text/plain": [
              "<Figure size 864x288 with 2 Axes>"
            ]
          },
          "metadata": {
            "tags": [],
            "needs_background": "light"
          }
        }
      ]
    },
    {
      "cell_type": "markdown",
      "metadata": {
        "id": "g6bT_GfyRkIV"
      },
      "source": [
        "To get some numbers, let's also print out the best test accuracies for the models."
      ]
    },
    {
      "cell_type": "code",
      "metadata": {
        "id": "gt4FbZiWRpJa",
        "colab": {
          "base_uri": "https://localhost:8080/"
        },
        "outputId": "f37b2e47-1ce7-4047-9fda-cf2756e4a2a8"
      },
      "source": [
        "# DO NOT MODIFY THIS CELL\n",
        "print(\"best test acc:\")\n",
        "for (m_i, hist_i) in enumerate(hist):\n",
        "  print(\"model {:d}: {:f}%\".format(m_i + 1, max(hist_i.history['val_categorical_accuracy']) * 100.0))"
      ],
      "execution_count": null,
      "outputs": [
        {
          "output_type": "stream",
          "text": [
            "best test acc:\n",
            "model 1: 63.050002%\n",
            "model 2: 78.799999%\n"
          ],
          "name": "stdout"
        }
      ]
    },
    {
      "cell_type": "markdown",
      "metadata": {
        "id": "7YWT2aRxMdSl"
      },
      "source": [
        "#### **3.1 Analysis (10 Points)**\n",
        "\n",
        "If you implemented the models correctly, your plots will look similar to the plots we got:\n",
        "\n",
        "<center>\n",
        "<img src=\"https://drive.google.com/thumbnail?id=10cAw3ftiegoWkPExynOrK_21uhZl68eF&sz=w800\" alt=\"wave\"/>\n",
        "<br>\n",
        "</center>\n",
        "\n",
        "Also, here's the output we got when printing the best test accuracies for the models:\n",
        "```\n",
        "best test acc:\n",
        "model 1: 62.760001%\n",
        "model 2: 78.359997%\n",
        "```\n",
        "\n",
        "How well does each model fit to the training and test sets? How well do they perform relative to each other?  Why do you think our models behave this way?"
      ]
    },
    {
      "cell_type": "markdown",
      "metadata": {
        "id": "SV3M31NNM-wn"
      },
      "source": [
        "***your answer here***"
      ]
    },
    {
      "cell_type": "markdown",
      "metadata": {
        "id": "weW9fYHNaiVc"
      },
      "source": [
        "### **Problem 4: Improving the model (20 Points)**\n",
        "\n",
        "Based off of your observations in the above experiment, try to improve upon model 2 using some techniques discussed in the text and class.\n"
      ]
    },
    {
      "cell_type": "markdown",
      "metadata": {
        "id": "IPbWvSAuNBC9"
      },
      "source": [
        "#### **4.1 Implementation (10 Points)**\n",
        "\n",
        "Write your code below implementing the modified model, training it, and displaying training plots similar to the ones above. A template based on the code above has been provided to help you get started, including code to train and plot the results, but feel free to modify or deviate from it as necessary.\n",
        "\n",
        "As a guideline, try to get your improved model's accuracy on the test set either above $82\\%$, or at least $5\\%$ greater than the best accuracy the baseline model 2 gets above. Due to the stochastic nature of training, your results will vary with every run; it suffices that the result you submit meets at least one of these criteria."
      ]
    },
    {
      "cell_type": "code",
      "metadata": {
        "id": "yQ8NNAusOJhd",
        "colab": {
          "base_uri": "https://localhost:8080/",
          "height": 1000
        },
        "outputId": "0aaa751d-39d2-41f7-bf04-92a6983a283e"
      },
      "source": [
        "def model_2_improved():\n",
        "  model = models.Sequential()\n",
        "\n",
        "  model.add(Input(shape=[32,32,3]))\n",
        "\n",
        "  model.add(BatchNormalization())\n",
        "\n",
        "  # 1st Convolution Layer (with Batch Normalization and Relu Activation)\n",
        "  model.add(Conv2D(64,3,padding=\"same\",data_format='channels_last',activation='relu',kernel_initializer='he_normal'))\n",
        "  \n",
        "  # 2nd Convolution Layer (with Batch Normalization and Relu Activation)\n",
        "  model.add(Conv2D(64,3, padding=\"same\",data_format='channels_last', activation='relu',kernel_initializer='he_normal'))\n",
        "\n",
        "  # 1st Max Pooling\n",
        "  model.add(MaxPooling2D(strides=2, padding=\"same\",data_format='channels_last'))\n",
        "  model.add(Dropout(0.2))\n",
        "\n",
        "  # 3rd Convolution Layer (with Batch Normalization and Relu Activation)\n",
        "  model.add(Conv2D(128,3, padding=\"same\",data_format='channels_last', activation='relu',kernel_initializer='he_normal'))\n",
        "\n",
        "  # 4th Convolution Layer (with Batch Normalization and Relu Activation)\n",
        "  model.add(Conv2D(128,3, padding=\"same\",data_format='channels_last', activation='relu',kernel_initializer='he_normal'))\n",
        "\n",
        "  # 2nd Max Pooling\n",
        "  model.add(MaxPooling2D(strides=2, padding=\"same\", data_format='channels_last'))\n",
        "  model.add(Dropout(0.2))\n",
        "\n",
        "  # 5th Convolution Layer (with Batch Normalization and Relu Activation)\n",
        "  model.add(Conv2D(256,3, padding=\"same\",data_format='channels_last', activation='relu',kernel_initializer='he_normal'))\n",
        "\n",
        "  # 6th Convolution Layer (with Batch Normalization and Relu Activation)\n",
        "  model.add(Conv2D(256,3, padding=\"same\",data_format='channels_last', activation='relu',kernel_initializer='he_normal'))\n",
        "\n",
        "  # 3rd Max Pooling\n",
        "  model.add(MaxPooling2D(strides=2, padding=\"same\",data_format='channels_last'))\n",
        "  model.add(Dropout(0.2))\n",
        "\n",
        "  # flatten\n",
        "  model.add(Flatten())\n",
        "\n",
        "  model.add(Dense(512, activation='relu', kernel_initializer='he_normal'))\n",
        "\n",
        "  model.add(Dropout(0.2))\n",
        "\n",
        "  model.add(Dense(256, activation='relu', kernel_initializer='he_normal'))\n",
        "\n",
        "  model.add(Dropout(0.2))\n",
        "\n",
        "  model.add(Dense(10))\n",
        "\n",
        "  return model\n",
        "\n",
        "\n",
        "\n",
        "# Provided Code\n",
        "model = model_2_improved() # get model\n",
        "opt = keras.optimizers.Nadam() # optimizer\n",
        "loss = keras.losses.CategoricalCrossentropy(from_logits=True) # loss function\n",
        "# compile and train, saving history for use in plotting our losses and metrics\n",
        "model.compile(optimizer=opt, loss=loss, metrics=['categorical_accuracy'])\n",
        "improved_hist = model.fit(x=train_input, y=train_targets,\n",
        "                 validation_data=(test_input, test_targets),\n",
        "                 batch_size=100, epochs=12, verbose=2)\n",
        "# plot losses\n",
        "plt.figure()\n",
        "plt.semilogy(improved_hist.history['loss'], label='train loss')\n",
        "plt.semilogy(improved_hist.history['val_loss'], label='test loss')\n",
        "plt.xlabel('epoch')\n",
        "plt.ylabel('loss')\n",
        "plt.legend()\n",
        "plt.tight_layout()\n",
        "# plot accuracies\n",
        "plt.figure()\n",
        "plt.plot(improved_hist.history['categorical_accuracy'], label='train acc')\n",
        "plt.plot(improved_hist.history['val_categorical_accuracy'], label='test acc')\n",
        "plt.xlabel('epoch')\n",
        "plt.ylabel('accuracy')\n",
        "plt.legend()\n",
        "# print best\n",
        "print(\"best test acc: {:f}%\".format(max(improved_hist.history['val_categorical_accuracy']) * 100.0))\n",
        "\n",
        "#keras.utils.plot_model(model_2_improved(), show_shapes=True, show_layer_names=False)"
      ],
      "execution_count": null,
      "outputs": [
        {
          "output_type": "stream",
          "text": [
            "Epoch 1/12\n",
            "WARNING:tensorflow:Callbacks method `on_train_batch_end` is slow compared to the batch time (batch time: 0.0063s vs `on_train_batch_end` time: 0.0259s). Check your callbacks.\n"
          ],
          "name": "stdout"
        },
        {
          "output_type": "stream",
          "text": [
            "WARNING:tensorflow:Callbacks method `on_train_batch_end` is slow compared to the batch time (batch time: 0.0063s vs `on_train_batch_end` time: 0.0259s). Check your callbacks.\n"
          ],
          "name": "stderr"
        },
        {
          "output_type": "stream",
          "text": [
            "WARNING:tensorflow:Callbacks method `on_test_batch_end` is slow compared to the batch time (batch time: 0.0018s vs `on_test_batch_end` time: 0.0046s). Check your callbacks.\n"
          ],
          "name": "stdout"
        },
        {
          "output_type": "stream",
          "text": [
            "WARNING:tensorflow:Callbacks method `on_test_batch_end` is slow compared to the batch time (batch time: 0.0018s vs `on_test_batch_end` time: 0.0046s). Check your callbacks.\n"
          ],
          "name": "stderr"
        },
        {
          "output_type": "stream",
          "text": [
            "500/500 - 12s - loss: 1.6877 - categorical_accuracy: 0.3994 - val_loss: 1.1878 - val_categorical_accuracy: 0.5799\n",
            "Epoch 2/12\n",
            "500/500 - 12s - loss: 1.0987 - categorical_accuracy: 0.6143 - val_loss: 0.9056 - val_categorical_accuracy: 0.6801\n",
            "Epoch 3/12\n",
            "500/500 - 12s - loss: 0.8400 - categorical_accuracy: 0.7065 - val_loss: 0.7372 - val_categorical_accuracy: 0.7459\n",
            "Epoch 4/12\n",
            "500/500 - 12s - loss: 0.7053 - categorical_accuracy: 0.7552 - val_loss: 0.6875 - val_categorical_accuracy: 0.7698\n",
            "Epoch 5/12\n",
            "500/500 - 12s - loss: 0.6144 - categorical_accuracy: 0.7882 - val_loss: 0.6303 - val_categorical_accuracy: 0.7903\n",
            "Epoch 6/12\n",
            "500/500 - 12s - loss: 0.5387 - categorical_accuracy: 0.8143 - val_loss: 0.6056 - val_categorical_accuracy: 0.8028\n",
            "Epoch 7/12\n",
            "500/500 - 12s - loss: 0.4853 - categorical_accuracy: 0.8309 - val_loss: 0.5792 - val_categorical_accuracy: 0.8128\n",
            "Epoch 8/12\n",
            "500/500 - 12s - loss: 0.4370 - categorical_accuracy: 0.8472 - val_loss: 0.5790 - val_categorical_accuracy: 0.8119\n",
            "Epoch 9/12\n",
            "500/500 - 12s - loss: 0.3934 - categorical_accuracy: 0.8638 - val_loss: 0.5556 - val_categorical_accuracy: 0.8204\n",
            "Epoch 10/12\n",
            "500/500 - 12s - loss: 0.3612 - categorical_accuracy: 0.8745 - val_loss: 0.5472 - val_categorical_accuracy: 0.8268\n",
            "Epoch 11/12\n",
            "500/500 - 12s - loss: 0.3292 - categorical_accuracy: 0.8841 - val_loss: 0.5704 - val_categorical_accuracy: 0.8261\n",
            "Epoch 12/12\n",
            "500/500 - 12s - loss: 0.3104 - categorical_accuracy: 0.8924 - val_loss: 0.5464 - val_categorical_accuracy: 0.8278\n",
            "best test acc: 82.779998%\n"
          ],
          "name": "stdout"
        },
        {
          "output_type": "display_data",
          "data": {
            "image/png": "[encoded data removed]",
            "text/plain": [
              "<Figure size 432x288 with 1 Axes>"
            ]
          },
          "metadata": {
            "tags": [],
            "needs_background": "light"
          }
        },
        {
          "output_type": "display_data",
          "data": {
            "image/png": "[encoded data removed]",
            "text/plain": [
              "<Figure size 432x288 with 1 Axes>"
            ]
          },
          "metadata": {
            "tags": [],
            "needs_background": "light"
          }
        }
      ]
    },
    {
      "cell_type": "markdown",
      "metadata": {
        "id": "jbrqgxPRPNIa"
      },
      "source": [
        "#### **4.2 Dicussion and Analysis (10 Points)**\n",
        "\n",
        "Provide some writing below describing what modifications you made to model 2's architecture and/or training procedure, as well as your rationale behind these modifications. How well does your improved model perform?"
      ]
    },
    {
      "cell_type": "markdown",
      "metadata": {
        "id": "Db0tdxLPRQU6"
      },
      "source": [
        "I made several modifications to model 2's architecture that improve the performance. First I removed two of the convolutional layers in the middle of the network. It seemed sufficient to double the number of filters for each pair of convolutional layers, and so I got rid of the pair of layers with 192 filters in the middle of the network. Next, I added a dropout layer after each Max Pooling layer. I added this to reduce overfitting, and set the dropout rate to 20% in each. I added an extra dense layer as well, with ReLU activation, just to allow more expressivity in the transposition from 512 nodes to the final 10 classes. Each dense layer (besides the output) still has a dropout layer following, again to reduce overfitting. These straightforward modifications improve the performance of the overall network to around 82.5% test accuracy on average. I added in two additional epochs to account for the stochastic nature of the problem - although 82% accuracy is normally reached within the first 10."
      ]
    },
    {
      "cell_type": "code",
      "metadata": {
        "id": "upOi-VXmQAOZ"
      },
      "source": [
        ""
      ],
      "execution_count": null,
      "outputs": []
    }
  ]
}